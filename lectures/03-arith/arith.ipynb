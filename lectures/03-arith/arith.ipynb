{
 "cells": [
  {
   "cell_type": "raw",
   "metadata": {},
   "source": [
    "---\n",
    "title: \"Computer Arithmetic\"\n",
    "subtitle: Advanced Statistical Computing\n",
    "author: Joong-Ho Won\n",
    "date: today\n",
    "date-format: \"MMMM YYYY\"\n",
    "institute: Seoul National University\n",
    "execute:\n",
    "  echo: true  \n",
    "format:\n",
    "  revealjs:\n",
    "    toc: false\n",
    "    theme: dark\n",
    "    code-fold: false    \n",
    "jupyter: julia    \n",
    "---"
   ]
  },
  {
   "cell_type": "code",
   "execution_count": 1,
   "metadata": {
    "tags": []
   },
   "outputs": [
    {
     "name": "stdout",
     "output_type": "stream",
     "text": [
      "Julia Version 1.9.3\n",
      "Commit bed2cd540a1 (2023-08-24 14:43 UTC)\n",
      "Build Info:\n",
      "  Official https://julialang.org/ release\n",
      "Platform Info:\n",
      "  OS: macOS (x86_64-apple-darwin22.4.0)\n",
      "  CPU: 8 × Intel(R) Core(TM) i5-8279U CPU @ 2.40GHz\n",
      "  WORD_SIZE: 64\n",
      "  LIBM: libopenlibm\n",
      "  LLVM: libLLVM-14.0.6 (ORCJIT, skylake)\n",
      "  Threads: 2 on 8 virtual cores\n"
     ]
    }
   ],
   "source": [
    "versioninfo()"
   ]
  },
  {
   "cell_type": "code",
   "execution_count": 2,
   "metadata": {
    "tags": []
   },
   "outputs": [
    {
     "name": "stderr",
     "output_type": "stream",
     "text": [
      "\u001b[32m\u001b[1m  Activating\u001b[22m\u001b[39m new project at `~/Dropbox/class/M1399.000200/2023/M1300_000200-2023fall/lectures/03-arith`\n",
      "\u001b[32m\u001b[1m  No Changes\u001b[22m\u001b[39m to `~/Dropbox/class/M1399.000200/2023/M1300_000200-2023fall/lectures/03-arith/Project.toml`\n",
      "\u001b[32m\u001b[1m  No Changes\u001b[22m\u001b[39m to `~/Dropbox/class/M1399.000200/2023/M1300_000200-2023fall/lectures/03-arith/Manifest.toml`\n"
     ]
    },
    {
     "name": "stdout",
     "output_type": "stream",
     "text": [
      "\u001b[32m\u001b[1mStatus\u001b[22m\u001b[39m `~/Dropbox/class/M1399.000200/2023/M1300_000200-2023fall/lectures/03-arith/Project.toml` (empty project)\n"
     ]
    }
   ],
   "source": [
    "using Pkg\n",
    "Pkg.activate(pwd())\n",
    "Pkg.instantiate()\n",
    "Pkg.status()"
   ]
  },
  {
   "cell_type": "markdown",
   "metadata": {},
   "source": [
    "## Units of computer storage\n",
    "\n",
    "* Humans use decimal digits (why?)\n",
    "* Computers use binary digits (why?)\n",
    "    + *Bit* = binary digit (coined by statistician [John Tukey](https://en.wikipedia.org/wiki/Bit#History)).  \n",
    "    + *byte* = 8 bits.\n",
    "    + KB = kilobyte = $10^3$ bytes; KiB = kibibyte = $2^{10}$ bytes.  \n",
    "    + MB = megabyte = $10^6$ bytes; MiB = mebibyte = $2^{20}$ bytes.\n",
    "    + GB = gigabyte = $10^9$ bytes. Typical RAM size.  \n",
    "    + TB = terabyte = $10^{12}$ bytes. Typical hard drive size. \n",
    "    + PB = petabyte = $10^{15}$ bytes.  \n",
    "    \n",
    "---\n",
    "\n",
    "* (cont'd)\n",
    "    + EB = exabyte = $10^{18}$ bytes.\n",
    "    + ZB = zetabyte = $10^{21}$ bytes.  [Size of all healthcare data in 2018 is ~33 ZB.](https://www.linkedin.com/pulse/state-data-2023-health-tech-industry-fadwa-ouardani/)\n",
    "\n",
    "\n",
    "Julia function `Base.summarysize` shows the amount of memory (in bytes) used by an object."
   ]
  },
  {
   "cell_type": "code",
   "execution_count": 3,
   "metadata": {},
   "outputs": [
    {
     "data": {
      "text/plain": [
       "80040"
      ]
     },
     "execution_count": 3,
     "metadata": {},
     "output_type": "execute_result"
    }
   ],
   "source": [
    "x = rand(100, 100)\n",
    "Base.summarysize(x)"
   ]
  },
  {
   "cell_type": "markdown",
   "metadata": {
    "tags": []
   },
   "source": [
    "---\n",
    "\n",
    "`varinfo()` function prints all variables in workspace and their sizes."
   ]
  },
  {
   "cell_type": "code",
   "execution_count": 4,
   "metadata": {},
   "outputs": [
    {
     "data": {
      "text/latex": [
       "\\begin{tabular}\n",
       "{l | r | l}\n",
       "name & size & summary \\\\\n",
       "\\hline\n",
       "Base &  & Module \\\\\n",
       "Core &  & Module \\\\\n",
       "Main &  & Module \\\\\n",
       "x & 78.164 KiB & 100×100 Matrix\\{Float64\\} \\\\\n",
       "\\end{tabular}\n"
      ],
      "text/markdown": [
       "| name |       size | summary                 |\n",
       "|:---- | ----------:|:----------------------- |\n",
       "| Base |            | Module                  |\n",
       "| Core |            | Module                  |\n",
       "| Main |            | Module                  |\n",
       "| x    | 78.164 KiB | 100×100 Matrix{Float64} |\n"
      ],
      "text/plain": [
       "  name       size summary                \n",
       "  –––– –––––––––– –––––––––––––––––––––––\n",
       "  Base            Module                 \n",
       "  Core            Module                 \n",
       "  Main            Module                 \n",
       "  x    78.164 KiB 100×100 Matrix{Float64}"
      ]
     },
     "execution_count": 4,
     "metadata": {},
     "output_type": "execute_result"
    }
   ],
   "source": [
    "varinfo() # similar to Matlab whos()"
   ]
  },
  {
   "cell_type": "markdown",
   "metadata": {},
   "source": [
    "## Storage of Characters\n",
    "\n",
    "* Plain text files are stored in the form of characters: `.jl`, `.r`, `.c`, `.cpp`, `.ipynb`, `.html`, `.tex`, ...  \n",
    "* ASCII (American Code for Information Interchange): 7 bits, only $2^7=128$ characters.  "
   ]
  },
  {
   "cell_type": "code",
   "execution_count": 5,
   "metadata": {},
   "outputs": [
    {
     "data": {
      "text/plain": [
       "128×2 Matrix{Any}:\n",
       "   0  '\\0'\n",
       "   1  '\\x01'\n",
       "   2  '\\x02'\n",
       "   3  '\\x03'\n",
       "   4  '\\x04'\n",
       "   5  '\\x05'\n",
       "   6  '\\x06'\n",
       "   7  '\\a'\n",
       "   8  '\\b'\n",
       "   9  '\\t'\n",
       "  10  '\\n'\n",
       "  11  '\\v'\n",
       "  12  '\\f'\n",
       "   ⋮  \n",
       " 116  't'\n",
       " 117  'u'\n",
       " 118  'v'\n",
       " 119  'w'\n",
       " 120  'x'\n",
       " 121  'y'\n",
       " 122  'z'\n",
       " 123  '{'\n",
       " 124  '|'\n",
       " 125  '}'\n",
       " 126  '~'\n",
       " 127  '\\x7f'"
      ]
     },
     "execution_count": 5,
     "metadata": {},
     "output_type": "execute_result"
    }
   ],
   "source": [
    "# integers 0, 1, ..., 127 and corresponding ascii character\n",
    "[0:127 Char.(0:127)]"
   ]
  },
  {
   "cell_type": "markdown",
   "metadata": {},
   "source": [
    "---\n",
    "\n",
    "* Extended ASCII: 8 bits, $2^8=256$ characters.  "
   ]
  },
  {
   "cell_type": "code",
   "execution_count": 6,
   "metadata": {},
   "outputs": [
    {
     "data": {
      "text/plain": [
       "128×2 Matrix{Any}:\n",
       " 128  '\\u80'\n",
       " 129  '\\u81'\n",
       " 130  '\\u82'\n",
       " 131  '\\u83'\n",
       " 132  '\\u84'\n",
       " 133  '\\u85'\n",
       " 134  '\\u86'\n",
       " 135  '\\u87'\n",
       " 136  '\\u88'\n",
       " 137  '\\u89'\n",
       " 138  '\\u8a'\n",
       " 139  '\\u8b'\n",
       " 140  '\\u8c'\n",
       "   ⋮  \n",
       " 244  'ô'\n",
       " 245  'õ'\n",
       " 246  'ö'\n",
       " 247  '÷'\n",
       " 248  'ø'\n",
       " 249  'ù'\n",
       " 250  'ú'\n",
       " 251  'û'\n",
       " 252  'ü'\n",
       " 253  'ý'\n",
       " 254  'þ'\n",
       " 255  'ÿ'"
      ]
     },
     "execution_count": 6,
     "metadata": {},
     "output_type": "execute_result"
    }
   ],
   "source": [
    "# integers 128, 129, ..., 255 and corresponding extended ascii character\n",
    "# show(STDOUT, \"text/plain\", [128:255 Char.(128:255)])\n",
    "[128:255 Char.(128:255)]"
   ]
  },
  {
   "cell_type": "markdown",
   "metadata": {},
   "source": [
    "---\n",
    "\n",
    "* Unicode: UTF-8, UTF-16 and UTF-32 support many more characters including foreign characters; last 7 digits conform to ASCII. \n",
    "    + [UTF-8](https://en.wikipedia.org/wiki/UTF-8) is the current dominant character encoding on internet.  \n",
    "\n",
    "* Julia supports the full range of UTF-8 characters. You can type many Unicode math symbols by typing the backslashed LaTeX symbol name followed by tab. "
   ]
  },
  {
   "cell_type": "code",
   "execution_count": 7,
   "metadata": {},
   "outputs": [
    {
     "data": {
      "text/plain": [
       "0.0"
      ]
     },
     "execution_count": 7,
     "metadata": {},
     "output_type": "execute_result"
    }
   ],
   "source": [
    "# \\beta-<tab>\n",
    "β = 0.0\n",
    "# \\beta-<tab>-\\hat-<tab>\n",
    "β̂ = 0.0"
   ]
  },
  {
   "cell_type": "markdown",
   "metadata": {},
   "source": [
    "See <https://docs.julialang.org/en/v1/manual/unicode-input/>"
   ]
  },
  {
   "cell_type": "markdown",
   "metadata": {},
   "source": [
    "## Integers: fixed-point number system\n",
    "\n",
    "* Fixed-point number system is a computer model for integers $\\mathbb{Z}$. \n",
    "    - Remember that computer memory is *finite* whereas the cardinality of $\\mathbb{Z}$ is (countably) infinite.\n",
    "    - *Any* representation of numbers in computer *has to be* an approximation.\n",
    "\n",
    "---\n",
    "\n",
    "* Number of bits M to represent integers and method of representing negative numbers vary from system to system. \n",
    "    - The `integer` type in R has $M=32$ (packages such as 'bit64' support 64 bit integers). \n",
    "        + <https://www.r-bloggers.com/r-in-a-64-bit-world/>\n",
    "    - C has (`unsigned`) `char`, `int`, `short`, `long` (and `long long`), whose sizes depend on the machine.\n",
    "    - Matlab has `(u)int8`, `(u)int16`, `(u)int32`, `(u)int64`.  \n",
    "\n",
    "---\n",
    "\n",
    "* Julia has even more integer types: \n",
    "\n",
    "<img src=\"1280px-Type-hierarchy-for-julia-numbers.png\" width=\"1280\" align=\"center\"/>\n",
    "<https://en.wikibooks.org/wiki/Introducing_Julia/Types>"
   ]
  },
  {
   "cell_type": "markdown",
   "metadata": {},
   "source": [
    "---"
   ]
  },
  {
   "cell_type": "markdown",
   "metadata": {},
   "source": [
    "### Unsigned integers\n",
    "\n",
    "* Model for $\\mathbb{N} \\cup \\{0\\}$.\n",
    "* For unsigned integers, the range is $[0,2^M-1]$.\n",
    "* Julia functions `typemin(T)` and `typemax(T)` give the lowest and highest representable number of a type `T` respectively"
   ]
  },
  {
   "cell_type": "code",
   "execution_count": 9,
   "metadata": {},
   "outputs": [
    {
     "name": "stdout",
     "output_type": "stream",
     "text": [
      "UInt8\t0\t255\n",
      "UInt16\t0\t65535\n",
      "UInt32\t0\t4294967295\n",
      "UInt64\t0\t18446744073709551615\n",
      "UInt128\t0\t340282366920938463463374607431768211455\n"
     ]
    }
   ],
   "source": [
    "for t in [UInt8, UInt16, UInt32, UInt64, UInt128]\n",
    "    println(t, '\\t', typemin(t), '\\t', typemax(t))\n",
    "end"
   ]
  },
  {
   "cell_type": "markdown",
   "metadata": {},
   "source": [
    "---\n",
    "\n",
    "### Signed integers\n",
    "\n",
    "* Model of $\\mathbb{Z}$. Can do subtraction.\n",
    "\n",
    "* First bit (\"most significant bit\" or MSB) is the sign bit.  \n",
    "    - `0` for nonnegative numbers\n",
    "    - `1` for negative numbers  \n",
    "    \n",
    "* **Two's complement representation** for negative numbers\n",
    "    - Set the sign bit to 1  \n",
    "    - Negate (`0`->`1`, `1`->`0`) the remaining bits\n",
    "    - Add to `1` to the result  \n",
    "    - Two's complement representation of a negative integer $x$ is the same as the unsigned integer $2^M - x$.\n",
    "    \n",
    "---"
   ]
  },
  {
   "cell_type": "code",
   "execution_count": 10,
   "metadata": {},
   "outputs": [
    {
     "name": "stdout",
     "output_type": "stream",
     "text": [
      "typeof(5) = Int64\n",
      "bitstring(5) = \"0000000000000000000000000000000000000000000000000000000000000101\"\n",
      "bitstring(-5) = \"1111111111111111111111111111111111111111111111111111111111111011\"\n",
      "bitstring(UInt64(Int128(2) ^ 64 - 5)) == bitstring(-5) = true\n",
      "bitstring(2 * 5) = \"0000000000000000000000000000000000000000000000000000000000001010\"\n",
      "bitstring(2 * -5) = \"1111111111111111111111111111111111111111111111111111111111110110\"\n"
     ]
    }
   ],
   "source": [
    "@show typeof(5)\n",
    "@show bitstring(5)\n",
    "@show bitstring(-5)\n",
    "@show bitstring(UInt64(Int128(2)^64 - 5)) == bitstring(-5)\n",
    "@show bitstring(2 * 5) # shift bits of 5 to the left\n",
    "@show bitstring(2 * -5); # shift bits of -5 to left"
   ]
  },
  {
   "cell_type": "markdown",
   "metadata": {},
   "source": [
    "---\n",
    "\n",
    "* Two's complement representation respects modular arithmetic nicely. Addition of any two signed integers are just bitwise addition, possibly modulo $2^M$\n",
    "    - $M=4$ case:\n",
    "\n",
    "<img src=\"http://users.dickinson.edu/~braught/courses/cs251f02/classes/images/twosCompWheel.png\" width=\"400\" align=\"center\"/>    \n",
    "Source: [Signed Binary Numbers, Subtraction and Overflow](http://users.dickinson.edu/~braught/courses/cs251f02/classes/notes07.html)"
   ]
  },
  {
   "cell_type": "markdown",
   "metadata": {},
   "source": [
    "---\n",
    "\n",
    "* **Range** of representable integers by $M$-bit **signed integer** is $[-2^{M-1},2^{M-1}-1]$:"
   ]
  },
  {
   "cell_type": "code",
   "execution_count": 11,
   "metadata": {},
   "outputs": [
    {
     "data": {
      "text/plain": [
       "(-9223372036854775808, 9223372036854775807)"
      ]
     },
     "execution_count": 11,
     "metadata": {},
     "output_type": "execute_result"
    }
   ],
   "source": [
    "typemin(Int64), typemax(Int64)"
   ]
  },
  {
   "cell_type": "code",
   "execution_count": 12,
   "metadata": {},
   "outputs": [
    {
     "name": "stdout",
     "output_type": "stream",
     "text": [
      "Int8\t-128\t127\n",
      "Int16\t-32768\t32767\n",
      "Int32\t-2147483648\t2147483647\n",
      "Int64\t-9223372036854775808\t9223372036854775807\n",
      "Int128\t-170141183460469231731687303715884105728\t170141183460469231731687303715884105727\n"
     ]
    }
   ],
   "source": [
    "for T in [Int8, Int16, Int32, Int64, Int128]\n",
    "    println(T, '\\t', typemin(T), '\\t', typemax(T))\n",
    "end"
   ]
  },
  {
   "cell_type": "markdown",
   "metadata": {},
   "source": [
    "---\n",
    "\n",
    "### `BigInt`\n",
    "\n",
    "Julia `BigInt` type is arbitrary precision."
   ]
  },
  {
   "cell_type": "code",
   "execution_count": 13,
   "metadata": {},
   "outputs": [
    {
     "name": "stdout",
     "output_type": "stream",
     "text": [
      "typemax(Int128) = 170141183460469231731687303715884105727\n",
      "typemax(Int128) + 1 = -170141183460469231731687303715884105728\n",
      "BigInt(typemax(Int128)) + 1 = 170141183460469231731687303715884105728\n"
     ]
    }
   ],
   "source": [
    "@show typemax(Int128)\n",
    "@show typemax(Int128) + 1 # overflow!\n",
    "@show BigInt(typemax(Int128)) + 1;"
   ]
  },
  {
   "cell_type": "markdown",
   "metadata": {},
   "source": [
    "---\n",
    "\n",
    "### Overflow in integer arithmetic\n",
    "\n",
    "R reports `NA` for integer overflow.\n",
    "**Julia outputs the result according to modular arithmetic.**"
   ]
  },
  {
   "cell_type": "code",
   "execution_count": 14,
   "metadata": {},
   "outputs": [
    {
     "name": "stdout",
     "output_type": "stream",
     "text": [
      "typemax(Int32) = 2147483647\n",
      "typemax(Int32) + Int32(1) = -2147483648\n"
     ]
    }
   ],
   "source": [
    "@show typemax(Int32)\n",
    "@show typemax(Int32) + Int32(1); # modular arithmetics!"
   ]
  },
  {
   "cell_type": "code",
   "execution_count": 15,
   "metadata": {},
   "outputs": [
    {
     "data": {
      "text/plain": [
       "RObject{IntSxp}\n",
       "[1] 2147483647\n"
      ]
     },
     "execution_count": 15,
     "metadata": {},
     "output_type": "execute_result"
    }
   ],
   "source": [
    "using RCall\n",
    "# The largest integer R can hold\n",
    "R\"\"\"\n",
    ".Machine$integer.max \n",
    "\"\"\""
   ]
  },
  {
   "cell_type": "code",
   "execution_count": 17,
   "metadata": {},
   "outputs": [
    {
     "name": "stderr",
     "output_type": "stream",
     "text": [
      "┌ Warning: RCall.jl: Warning: NAs introduced by coercion to integer range\n",
      "└ @ RCall /Users/jhwon/.julia/packages/RCall/iMDW2/src/io.jl:160\n"
     ]
    },
    {
     "data": {
      "text/plain": [
       "RObject{IntSxp}\n",
       "[1] NA\n"
      ]
     },
     "execution_count": 17,
     "metadata": {},
     "output_type": "execute_result"
    }
   ],
   "source": [
    "R\"\"\"\n",
    "as.integer(big+1)\n",
    "\"\"\""
   ]
  },
  {
   "cell_type": "markdown",
   "metadata": {},
   "source": [
    "## Reals: floating-point number system\n",
    "\n",
    "Floating-point number system is a computer model for  $\\mathbb{R}$.\n",
    "\n",
    "* Most computer systems adopt the [IEEE 754 standard](https://en.wikipedia.org/wiki/IEEE_floating_point), established in 1985, for floating-point arithmetics.  \n",
    "For the history, see an [interview with William Kahan](http://www.cs.berkeley.edu/~wkahan/ieee754status/754story.html).\n",
    "\n",
    "* In the scientific notation, a real number is represented as\n",
    "$$\n",
    "\\pm d_1.d_2d_3 \\cdots d_p \\times b^e, \\quad 0 \\le d_i < b.\n",
    "$$\n",
    "Humans use the _base_ $b=10$ and _digits_ $d_i=0, 1, \\dotsc, 9$.\\\n",
    "    In computer, the base is $b=2$ and the digits $d_i$ are 0 or 1. The *exponent* $e$ is between $e_{\\min}$ and $e_{\\max}$."
   ]
  },
  {
   "cell_type": "markdown",
   "metadata": {},
   "source": [
    "---\n",
    "\n",
    "* **Normalized** vs **denormalized** numbers. For example, decimal number 18 is\n",
    "$$ +1.0010 \\times 2^4 \\quad (\\text{normalized})$$\n",
    "or, equivalently,\n",
    "$$ +0.1001 \\times 2^5 \\quad (\\text{denormalized}).$$\n",
    "\n",
    "---\n",
    "\n",
    "* In the floating-number system, computer stores \n",
    "    - sign bit  \n",
    "    - the *fraction* (or *mantissa*, or *significand*) of the **normalized** representation (except some special cases)\n",
    "    - the actual exponent *plus a bias*\n",
    "        + Because $e_{\\min}$ is likely negative and $e_{\\max}$ is positive, the exponent requires a sign. IEEE 754 handles the sign of the exponent by subtracting the bias from the value of the exponent evaluated as an unsigned integer."
   ]
  },
  {
   "cell_type": "markdown",
   "metadata": {},
   "source": [
    "* Julia provides `Float16` (half precision, implemented in software), `Float32` (single precision), `Float64` (double precision), and `BigFloat` (arbitrary precision)."
   ]
  },
  {
   "cell_type": "markdown",
   "metadata": {},
   "source": [
    "---"
   ]
  },
  {
   "cell_type": "markdown",
   "metadata": {
    "tags": []
   },
   "source": [
    "---\n",
    "\n",
    "### Half precision (Float16)\n",
    "\n",
    "![](./half-precision-numbers.png){width=\"500\" fig-align=\"center\"}\n",
    "\n",
    "::: {style=\"font-size: 50%;\"}\n",
    "\n",
    "<https://en.wikipedia.org/wiki/Half-precision_floating-point_format>\n",
    "\n",
    ":::\n",
    "\n",
    "- In Julia, `Float16` is the type for half precision numbers.\n",
    "\n",
    "- MSB is the sign bit.  \n",
    "\n",
    "- 10 significand bits (**fraction**=**mantissa**), hence $p=11$ (why?)\n",
    "\n",
    "---\n",
    "\n",
    "- 5 exponent bits: $e_{\\max}=15$, $e_{\\min}=-14$, **bias**=15 = $01111_2$ for encoding:\n",
    "    + $e_{\\min} = \\mathbf{00001_2} - 01111_2 = -14_{10}$\n",
    "    + $e_{\\max} = \\mathbf{11110_2} - 01111_2 = 15_{10}$\n",
    "\n",
    "- $e_{\\text{min}}-1$ and $e_{\\text{max}}+1$ are reserved for special numbers.  \n",
    "\n",
    "- range of **magnitude**: $10^{\\pm 4}$ in decimal because $\\log_{10} (2^{15}) \\approx 4$.  \n",
    "\n",
    "- **Precision**: $\\log_{10}2^{11} \\approx 3.311$ decimal digits. \n",
    "    $$\n",
    "    (value) = (-1)^{b_{15}}\\times 2^{(\\sum_{j=1}^5 b_{15-j}2^{5-j}) - 15} \\times \\left( 1 + \\sum_{i=1}^{10}\\frac{b_{10-i}}{2^i}\\right)\n",
    "    $$\n"
   ]
  },
  {
   "cell_type": "markdown",
   "metadata": {},
   "source": [
    "---"
   ]
  },
  {
   "cell_type": "code",
   "execution_count": 19,
   "metadata": {},
   "outputs": [
    {
     "name": "stdout",
     "output_type": "stream",
     "text": [
      "Half precision:\n",
      "bitstring(Float16(5)) = \"0100010100000000\"\n",
      "bitstring(Float16(-5)) = \"1100010100000000\"\n"
     ]
    }
   ],
   "source": [
    "println(\"Half precision:\")\n",
    "@show bitstring(Float16(5)) # 5 in half precision\n",
    "@show bitstring(Float16(-5)); # -5 in half precision"
   ]
  },
  {
   "cell_type": "markdown",
   "metadata": {},
   "source": [
    "---\n",
    "\n",
    "### Single precision (Float32)\n",
    "\n",
    "![](./single-precision-numbers.png){width=\"800\" fig-align=\"center\"}\n",
    "\n",
    "::: {style=\"font-size: 50%;\"}\n",
    "\n",
    "<https://en.wikipedia.org/wiki/Single-precision_floating-point_format>\n",
    "\n",
    ":::\n",
    "\n",
    "- In Julia, `Float32` is the type for single precision numbers.  \n",
    "\n",
    "- MSB is the sign bit.  \n",
    "\n",
    "- 23 significand bits ($p=24$).  \n",
    "\n",
    "- 8 exponent bits: $e_{\\max}=127$, $e_{\\min}=-126$, **bias**=127.  \n",
    "\n",
    "- $e_{\\text{min}}-1$ and $e_{\\text{max}}+1$ are reserved for special numbers.  \n",
    "\n",
    "---\n",
    "\n",
    "- range of **magnitude**: $10^{\\pm 38}$ in decimal because $\\log_{10} (2^{127}) \\approx 38$.\n",
    "\n",
    "- **precision**: $\\log_{10}(2^{24}) \\approx 7.225$ decimal digits.  "
   ]
  },
  {
   "cell_type": "code",
   "execution_count": 20,
   "metadata": {},
   "outputs": [
    {
     "name": "stdout",
     "output_type": "stream",
     "text": [
      "Single precision:\n",
      "bitstring(Float32(5)) = \"01000000101000000000000000000000\"\n",
      "bitstring(Float32(-5)) = \"11000000101000000000000000000000\"\n"
     ]
    }
   ],
   "source": [
    "println(\"Single precision:\")\n",
    "@show bitstring(Float32(5)) # 5 in single precision\n",
    "@show bitstring(Float32(-5)); # -5 in single precision"
   ]
  },
  {
   "cell_type": "markdown",
   "metadata": {},
   "source": [
    "---\n",
    "\n",
    "### Double precision (Float64)\n",
    "\n",
    "![](./double-precision-numbers.png){width=\"800\" fig-align=\"center\"}\n",
    "\n",
    "\n",
    "::: {style=\"font-size: 50%;\"}\n",
    "\n",
    "<https://en.wikipedia.org/wiki/Double-precision_floating-point_format>\n",
    "\n",
    ":::\n",
    "\n",
    "- Double precision (64 bits = 8 bytes) numbers are the dominant data type in scientific computing.\n",
    "      \n",
    "- In Julia, `Float64` is the type for double precision numbers.    \n",
    "\n",
    "- MSB is the sign bit.  \n",
    "\n",
    "- 52 significand bits ($p=53$).\n",
    "\n",
    "- 11 exponent bits: $e_{\\max}=1023$, $e_{\\min}=-1022$, **bias**=1023.  \n",
    "\n",
    "---\n",
    "\n",
    "- $e_{\\text{min}}-1$ and $e_{\\text{max}}+1$ are reserved for special numbers.  \n",
    "\n",
    "- range of **magnitude**: $10^{\\pm 308}$ in decimal because $\\log_{10} (2^{1023}) \\approx 308$.  \n",
    "\n",
    "- **precision** to the $\\log_{10}(2^{53}) \\approx 15.95$ decimal point."
   ]
  },
  {
   "cell_type": "code",
   "execution_count": 21,
   "metadata": {},
   "outputs": [
    {
     "name": "stdout",
     "output_type": "stream",
     "text": [
      "Double precision:\n",
      "bitstring(Float64(5)) = \"0100000000010100000000000000000000000000000000000000000000000000\"\n",
      "bitstring(Float64(-5)) = \"1100000000010100000000000000000000000000000000000000000000000000\"\n"
     ]
    }
   ],
   "source": [
    "println(\"Double precision:\")\n",
    "@show bitstring(Float64(5)) # 5 in double precision\n",
    "@show bitstring(Float64(-5)); # -5 in double precision"
   ]
  },
  {
   "cell_type": "markdown",
   "metadata": {},
   "source": [
    "---\n",
    "\n",
    "### Special floating-point numbers\n",
    "\n",
    "- Exponent $e_{\\max}+1$ plus a zero mantissa means $\\pm \\infty$."
   ]
  },
  {
   "cell_type": "code",
   "execution_count": 22,
   "metadata": {},
   "outputs": [
    {
     "name": "stdout",
     "output_type": "stream",
     "text": [
      "bitstring(Inf) = \"0111111111110000000000000000000000000000000000000000000000000000\"\n",
      "bitstring(-Inf) = \"1111111111110000000000000000000000000000000000000000000000000000\"\n"
     ]
    }
   ],
   "source": [
    "@show bitstring(Inf) # Inf in double precision\n",
    "@show bitstring(-Inf); # -Inf in double precision"
   ]
  },
  {
   "cell_type": "markdown",
   "metadata": {},
   "source": [
    "---\n",
    "\n",
    "- Exponent $e_{\\max}+1$ plus a nonzero mantissa means `NaN`. `NaN` could be produced from `0 / 0`, `0 * Inf`, ...  \n",
    "\n",
    "- In general `NaN ≠ NaN` bitwise. Test whether a number is `NaN` by `isnan` function.  "
   ]
  },
  {
   "cell_type": "code",
   "execution_count": 23,
   "metadata": {},
   "outputs": [
    {
     "name": "stdout",
     "output_type": "stream",
     "text": [
      "bitstring(0 / 0) = \"1111111111111000000000000000000000000000000000000000000000000000\"\n",
      "bitstring(0Inf) = \"1111111111111000000000000000000000000000000000000000000000000000\"\n"
     ]
    }
   ],
   "source": [
    "@show bitstring(0 / 0) # NaN\n",
    "@show bitstring(0 * Inf); # NaN"
   ]
  },
  {
   "cell_type": "markdown",
   "metadata": {},
   "source": [
    "- Exponent $e_{\\min}-1$ with a zero mantissa represents the real number 0 (\"exact zero\").  "
   ]
  },
  {
   "cell_type": "code",
   "execution_count": 24,
   "metadata": {},
   "outputs": [
    {
     "name": "stdout",
     "output_type": "stream",
     "text": [
      "bitstring(0.0) = \"0000000000000000000000000000000000000000000000000000000000000000\"\n"
     ]
    }
   ],
   "source": [
    "@show bitstring(0.0); # 0 in double precision "
   ]
  },
  {
   "cell_type": "markdown",
   "metadata": {},
   "source": [
    "---\n",
    "\n",
    "- Exponent $e_{\\min}-1$ with a nonzero mantissa are for numbers less than $b^{e_{\\min}}$ (subnormal numbers).\n",
    "- Numbers are _denormalized_ in the range $(0,b^{e_{\\min}})$ -- **gradual underflow**. \n",
    "- For example, in half-precision, $e_{\\min}=-14$ but $2^{-24}$ is represented by $0.0000000001_2 \\times 2^{-14}$.\n",
    "- If floating point numbers are all normalized, the spacing between 0 and $b^{e_{\\min}}$ is just $b^{e_{\\min}}$, whereas the spacing between $b^{e_{\\min}}$ and $b^{e_{\\min}+1}$ is $b^{e_{\\min}-p+1}$. With subnormal numbers, the spacing between 0 and $b^{e_{\\min}}$ can be $b^{e_{\\min}-p+1}$, which is consistent with the spacing just above $b^{e_{\\min}}$.\n",
    "\n",
    "---"
   ]
  },
  {
   "cell_type": "code",
   "execution_count": 25,
   "metadata": {},
   "outputs": [
    {
     "name": "stdout",
     "output_type": "stream",
     "text": [
      "Float16(2 ^ -14) = Float16(6.104e-5)\n",
      "bitstring(Float16(2 ^ -14)) = \"0000010000000000\"\n",
      "Float16(2 ^ -24) = Float16(6.0e-8)\n",
      "bitstring(Float16(2 ^ -24)) = \"0000000000000001\"\n"
     ]
    }
   ],
   "source": [
    "@show Float16(2^(-14))  # emin=-14\n",
    "@show bitstring(Float16(2^(-14)));\n",
    "@show Float16(2^(-24))  # emin=-14\n",
    "@show bitstring(Float16(2^(-24))); # denormalized"
   ]
  },
  {
   "cell_type": "code",
   "execution_count": 26,
   "metadata": {},
   "outputs": [
    {
     "name": "stdout",
     "output_type": "stream",
     "text": [
      "nextfloat(Float16(0.0)) = Float16(6.0e-8)\n",
      "bitstring(nextfloat(Float16(0.0))) = \"0000000000000001\"\n"
     ]
    }
   ],
   "source": [
    "@show nextfloat(Float16(0.0)) # next representable number\n",
    "@show bitstring(nextfloat(Float16(0.0))); # denormalized"
   ]
  },
  {
   "cell_type": "markdown",
   "metadata": {},
   "source": [
    "---\n",
    "\n",
    "### Rounding\n",
    "\n",
    "* Rounding is necessary whenever a number has more than $p$ significand bits. Most computer systems use the default IEEE 754 _round to nearest_ mode (also called _ties to even_ mode). Julia offers several [rounding modes](https://docs.julialang.org/en/v1/base/math/#Base.Rounding.RoundingMode), the default being [`RoundNearest`](https://docs.julialang.org/en/v1/base/math/#Base.Rounding.RoundNearest). \n",
    "\n",
    "* \"*Round to nearest, ties to even*\" rule: rounds to the nearest value; if the number falls midway, it is rounded to the nearest value with an even least significant digit (i.e., zero; default for IEEE 754 binary floating point numbers)\n",
    "\n",
    "---\n",
    "\n",
    "* For example, the number 1/10 cannot be represented accurately as a (binary) floating point number:\n",
    "$$ 0.1 = 1.10011001\\dotsc_2 \\times 2^{-4} $$"
   ]
  },
  {
   "cell_type": "code",
   "execution_count": 27,
   "metadata": {},
   "outputs": [
    {
     "name": "stdout",
     "output_type": "stream",
     "text": [
      "bitstring(0.1) = \"0011111110111001100110011001100110011001100110011001100110011010\"\n",
      "bitstring(0.1f0) = \"00111101110011001100110011001101\"\n",
      "bitstring(Float16(0.1)) = \"0010111001100110\"\n"
     ]
    }
   ],
   "source": [
    "@show bitstring(0.1);  # double precision Float64\n",
    "@show bitstring(0.1f0); # single precision Float32, 1001 gets rounded to 101(0)\n",
    "@show bitstring(Float16(0.1)); # half precision Float16, 1001 gets rounded to 101(0)"
   ]
  },
  {
   "cell_type": "markdown",
   "metadata": {},
   "source": [
    "---\n",
    "\n",
    "### Errors\n",
    "\n",
    "Rounding (more fundamentally, finite precision) incurs errors in floating porint computation. If a real number $x$ is represented by a floating point number $[x]$, then\n",
    "\n",
    "* Absolute error: $| [x] - x |$\n",
    "\n",
    "* Relative error: $\\frac{| [x] - x |}{|x|}$\n",
    "(if $x \\neq 0$).\n",
    "\n",
    "Of course, we want to ensure that the error after a computation is small."
   ]
  },
  {
   "cell_type": "markdown",
   "metadata": {},
   "source": [
    "---\n",
    "\n",
    "### Machine epsilons\n",
    "\n",
    "- Floating-point numbers do not occur uniformly over the real number line\n",
    "\n",
    "![](./fltscale.png){width=\"800\" fig-align=\"center\"}\n",
    "        \n",
    "::: {style=\"font-size: 50%;\"}\n",
    "\n",
    "Source: [What you never wanted to know about floating point but will be forced to find out](http://www.volkerschatz.com/science/float.html)\n",
    "\n",
    ":::\n",
    "\n",
    "- Same number of representible numbers in $(2^i, 2^{i+1}]$ as in $(2^{i+1}, 2^{i+2}]$. Within an interval, they are uniformly distributed.\n",
    "    \n",
    "---\n",
    "\n",
    "- **Machine epsilons** are the spacings of numbers around 1: \n",
    "    + $\\epsilon_{\\max}$ = (smallest positive floating point number that added to 1 will give a result different from 1) = $\\frac{1}{2^p} + \\frac{1}{2^{2p-1}}$\n",
    "    + $\\epsilon_{\\min}$ = (smallest positive floating point number that subtracted from 1 will give a result different from 1) = $\\frac{1}{2^{p+1}} + \\frac{1}{2^{2p}}$.\n",
    "    + That is, $1 + \\epsilon_{\\max}$ is the number in the \"midway\" between 1 and the floating point number right next to it, etc.\n",
    "    \n",
    "![](./machine_epsilons.png){width=\"1000\" fig-align=\"center\"}    \n",
    "\n",
    "::: {style=\"font-size: 50%;\"}\n",
    "\n",
    "Source: *Computational Statistics*, James Gentle, Springer, New York, 2009.\n",
    "\n",
    "*Caution: the definition of $\\epsilon_{\\max}$ and $\\epsilon_{\\min}$ in this book is different from the lecture note.*\n",
    "\n",
    ":::\n",
    "\n",
    "---\n",
    "\n",
    "- Any real number in the interval $\\left[1 - \\frac{1}{2^{p+1}}, 1 + \\frac{1}{2^p}\\right]=[1.111\\dotsb1|1_2 \\times 2^{-1}, 1.000\\dotsb 0|1 \\times 2^0]$ is represented by a floating point number $1 = 1.00\\dotsc 0_2 \\times 2^0$ (assuming the \"ties to even\" rule: consider $p=2$ case).\n",
    "\n",
    "- Adding $\\frac{1}{2^p}$ to 1 won't reach the next representable floating point number  $1.00\\dotsc 01_2 \\times 2^0 = 1 + \\frac{1}{2^{p-1}}$. Hence $\\epsilon_{\\max} > \\frac{1}{2^p} = 1.00\\dotsc 0_2 \\times 2^{-p}$.\n",
    "\n",
    "- Adding the floating point number *next to* $\\frac{1}{2^p} = 1.00\\dotsc 0_2 \\times 2^{-p}$ to 1 WILL result in $1.00\\dotsc 01_2 \\times 2^0 = 1 + \\frac{1}{2^{p-1}}$, hence $\\epsilon_{\\max} = 1.00\\dotsb 01_2 \\times 2^{-p} = \\frac{1}{2^p} + \\frac{1}{2^{p+p-1}}$.\n",
    "\n",
    "---\n",
    "\n",
    "- Subtracting $\\frac{1}{2^{p+1}}$ from 1 results in $1-\\frac{1}{2^{p+1}} = \\frac{1}{2} + \\frac{1}{2^2} + \\dotsb + \\frac{1}{2^p} + \\frac{1}{2^{p+1}}$, which is represented by the floating point number $1.00\\dotsb 0_2 \\times 2^{0} = 1$ by the \"ties to even\" rule. Hence $\\epsilon_{\\min} > \\frac{1}{2^{p+1}}$.\n",
    "\n",
    "- The smallest positive floating point number larger than $\\frac{1}{2^{p+1}}$ is $\\frac{1}{2^{p+1}} + \\frac{1}{2^{2p}}=1.00\\dotsc 1_2 \\times 2^{-p-1}$. Thus $\\epsilon_{\\min} = \\frac{1}{2^{p+1}} + \\frac{1}{2^{2p}}$."
   ]
  },
  {
   "cell_type": "markdown",
   "metadata": {},
   "source": [
    "---\n",
    "\n",
    "### Machine precision\n",
    "\n",
    "* Machine epsilon is often called the machine precision.\n",
    "\n",
    "* If a positive real number $x \\in \\mathbb{R}$ is represented by $[x]$ in the floating point arithmetic, then \n",
    "    $$\n",
    "    [x] = \\left( 1 + \\sum_{i=1}^{p-1}\\frac{d_{i+1}}{2^i}\\right) \\times 2^e.\n",
    "    $$\n",
    "    \n",
    "---\n",
    "\n",
    "Thus $x - \\frac{2^e}{2^p} \\le [x] \\le x + \\frac{2^e}{2^p}$, \n",
    "and\n",
    "    $$\n",
    "    \\begin{split}\n",
    "    \\frac{| x - [x] |}{|x|} &\\le \\frac{2^e}{2^p|x|} \\le \\frac{2^e}{2^p}\\frac{1}{[x]-2^e/2^p} \\\\\n",
    "                            &\\le \\frac{2^e}{2^p}\\frac{1}{2^e(1-1/2^p)}  \\quad (\\because [x] \\ge 2^e) \\\\\n",
    "                            &\\le \\frac{2^e}{2^p}\\frac{1}{2^e}(1 + \\frac{1}{2^{p-1}}) \\\\\n",
    "                            &= \\frac{1}{2^p} + \\frac{1}{2^{2p-1}} = \\epsilon_{\\max}.\n",
    "    \\end{split}\n",
    "    $$\n",
    "That is, the **relative error** of the floating point representation $[x]$ of real number $x$ is bounded by $\\epsilon_{\\max}$.\n",
    "\n",
    "---"
   ]
  },
  {
   "cell_type": "code",
   "execution_count": 28,
   "metadata": {},
   "outputs": [
    {
     "name": "stdout",
     "output_type": "stream",
     "text": [
      "2 ^ -53 + 2 ^ -105 = 1.1102230246251568e-16\n",
      "1.0 + 2 ^ -53 = 1.0\n",
      "1.0 + (2 ^ -53 + 2 ^ -105) = 1.0000000000000002\n",
      "1.0 + 2 ^ -53 + 2 ^ -105 = 1.0\n",
      "Float32(2 ^ -24 + 2 ^ -47) = 5.960465f-8\n",
      "1.0f0 + Float32(2 ^ -24) = 1.0f0\n",
      "1.0f0 + Float32(2 ^ -24 + 2 ^ -47) = 1.0000001f0\n"
     ]
    }
   ],
   "source": [
    "@show 2^(-53) + 2^(-105);   # epsilon_max for Float64\n",
    "@show 1.0 + 2^(-53);\n",
    "@show 1.0 + (2^(-53) + 2^(-105));\n",
    "@show 1.0 + 2^(-53) + 2^(-105);  # why is the result?  See \"Catastrophic cancellation\"\n",
    "\n",
    "@show Float32(2^(-24) + 2^(-47)); # epsilon_max for Float32\n",
    "@show 1.0f0 + Float32(2^(-24));\n",
    "@show 1.0f0 + Float32(2^(-24) + 2^(-47));"
   ]
  },
  {
   "cell_type": "markdown",
   "metadata": {},
   "source": [
    "---"
   ]
  },
  {
   "cell_type": "code",
   "execution_count": 29,
   "metadata": {},
   "outputs": [
    {
     "name": "stdout",
     "output_type": "stream",
     "text": [
      "2 ^ -54 + 2 ^ -106 = 5.551115123125784e-17\n",
      "1 - (2 ^ -54 + 2 ^ -106) = 0.9999999999999999\n",
      "bitstring(1.0) = \"0011111111110000000000000000000000000000000000000000000000000000\"\n",
      "bitstring(1 - (2 ^ -54 + 2 ^ -106)) = \"0011111111101111111111111111111111111111111111111111111111111111\"\n"
     ]
    },
    {
     "data": {
      "text/plain": [
       "\"0011111111101111111111111111111111111111111111111111111111111111\""
      ]
     },
     "execution_count": 29,
     "metadata": {},
     "output_type": "execute_result"
    }
   ],
   "source": [
    "@show 2^(-54) + 2^(-106);  # epsilon_min for Float64\n",
    "@show 1 - (2^(-54) + 2^(-106))\n",
    "@show bitstring(1.0)\n",
    "@show bitstring(1 - (2^(-54) + 2^(-106)))"
   ]
  },
  {
   "cell_type": "markdown",
   "metadata": {},
   "source": [
    "---\n",
    "\n",
    "In Julia, `eps(x)` gives the distance between consecutive representable floating point values at `x`, i.e.,\n",
    "```Julia\n",
    "eps(x) == max(x-prevfloat(x), nextfloat(x)-x)\n",
    "```\n",
    "which is roughly twice the $\\epsilon_{\\max}$."
   ]
  },
  {
   "cell_type": "code",
   "execution_count": 30,
   "metadata": {},
   "outputs": [
    {
     "name": "stdout",
     "output_type": "stream",
     "text": [
      "eps(Float32) = 1.1920929f-7\n",
      "eps(Float64) = 2.220446049250313e-16\n",
      "eps(100.0) = 1.4210854715202004e-14\n",
      "eps(0.0) = 5.0e-324\n",
      "x = 1.25f0 = 1.25f0\n",
      "(prevfloat(x), x, nextfloat(x)) = (1.2499999f0, 1.25f0, 1.2500001f0)\n",
      "(bitstring(prevfloat(x)), bitstring(x), bitstring(nextfloat(x))) = (\"00111111100111111111111111111111\", \"00111111101000000000000000000000\", \"00111111101000000000000000000001\")\n"
     ]
    }
   ],
   "source": [
    "@show eps(Float32)  # machine epsilon for a floating point type, roughly twice our \\epsilon_{\\max}\n",
    "@show eps(Float64)  # same as eps()\n",
    "# eps(x) is the spacing after x\n",
    "@show eps(100.0)\n",
    "@show eps(0.0)\n",
    "# nextfloat(x) and prevfloat(x) give the neighbors of x\n",
    "@show x = 1.25f0\n",
    "@show prevfloat(x), x, nextfloat(x)\n",
    "@show bitstring(prevfloat(x)), bitstring(x), bitstring(nextfloat(x));"
   ]
  },
  {
   "cell_type": "markdown",
   "metadata": {},
   "source": [
    "---\n",
    "\n",
    "* In R, the variable `.Machine` contains numerical characteristics of the machine. `double.eps` and `double.neg.eps` are roughly twice our $\\epsilon_{\\max}$ and $\\epsilon_{\\min}$, respectively."
   ]
  },
  {
   "cell_type": "code",
   "execution_count": 31,
   "metadata": {},
   "outputs": [
    {
     "data": {
      "text/plain": [
       "RObject{VecSxp}\n",
       "$double.eps\n",
       "[1] 2.220446e-16\n",
       "\n",
       "$double.neg.eps\n",
       "[1] 1.110223e-16\n",
       "\n",
       "$double.xmin\n",
       "[1] 2.225074e-308\n",
       "\n",
       "$double.xmax\n",
       "[1] 1.797693e+308\n",
       "\n",
       "$double.base\n",
       "[1] 2\n",
       "\n",
       "$double.digits\n",
       "[1] 53\n",
       "\n",
       "$double.rounding\n",
       "[1] 5\n",
       "\n",
       "$double.guard\n",
       "[1] 0\n",
       "\n",
       "$double.ulp.digits\n",
       "[1] -52\n",
       "\n",
       "$double.neg.ulp.digits\n",
       "[1] -53\n",
       "\n",
       "$double.exponent\n",
       "[1] 11\n",
       "\n",
       "$double.min.exp\n",
       "[1] -1022\n",
       "\n",
       "$double.max.exp\n",
       "[1] 1024\n",
       "\n",
       "$integer.max\n",
       "[1] 2147483647\n",
       "\n",
       "$sizeof.long\n",
       "[1] 8\n",
       "\n",
       "$sizeof.longlong\n",
       "[1] 8\n",
       "\n",
       "$sizeof.longdouble\n",
       "[1] 16\n",
       "\n",
       "$sizeof.pointer\n",
       "[1] 8\n",
       "\n",
       "$longdouble.eps\n",
       "[1] 1.084202e-19\n",
       "\n",
       "$longdouble.neg.eps\n",
       "[1] 5.421011e-20\n",
       "\n",
       "$longdouble.digits\n",
       "[1] 64\n",
       "\n",
       "$longdouble.rounding\n",
       "[1] 5\n",
       "\n",
       "$longdouble.guard\n",
       "[1] 0\n",
       "\n",
       "$longdouble.ulp.digits\n",
       "[1] -63\n",
       "\n",
       "$longdouble.neg.ulp.digits\n",
       "[1] -64\n",
       "\n",
       "$longdouble.exponent\n",
       "[1] 15\n",
       "\n",
       "$longdouble.min.exp\n",
       "[1] -16382\n",
       "\n",
       "$longdouble.max.exp\n",
       "[1] 16384\n",
       "\n"
      ]
     },
     "execution_count": 31,
     "metadata": {},
     "output_type": "execute_result"
    }
   ],
   "source": [
    "R\"\"\"\n",
    ".Machine\n",
    "\"\"\""
   ]
  },
  {
   "cell_type": "markdown",
   "metadata": {},
   "source": [
    "---\n",
    "\n",
    "### Overflow and underflow\n",
    "\n",
    "* For double precision, the range is $\\pm 10^{\\pm 308}$. In most situations, underflow (magnitude of result is less than $10^{-308}$) is preferred over overflow (magnitude of result is larger than $10^{+308}$). Overflow produces $\\pm \\inf$. Underflow yields zeros or subnormal numbers. \n",
    "\n",
    "* Example: the logit link function is\n",
    "$$p = \\frac{\\exp (x^T \\beta)}{1 + \\exp (x^T \\beta)} = \\frac{1}{1+\\exp(- x^T \\beta)}.$$\n",
    "The former expression can easily lead to `Inf / Inf = NaN`, while the latter expression leads to gradual underflow.\n",
    "\n",
    "---\n",
    "\n",
    "* `floatmin` and `floatmax` functions gives largest and smallest _non-subnormal_ number represented by the given floating point type."
   ]
  },
  {
   "cell_type": "code",
   "execution_count": 32,
   "metadata": {},
   "outputs": [
    {
     "name": "stdout",
     "output_type": "stream",
     "text": [
      "Float16\t6.104e-5\t6.55e4\t-Inf\tInf\t0.000977\n",
      "Float32\t1.1754944e-38\t3.4028235e38\t-Inf\tInf\t1.1920929e-7\n",
      "Float64\t2.2250738585072014e-308\t1.7976931348623157e308\t-Inf\tInf\t2.220446049250313e-16\n"
     ]
    }
   ],
   "source": [
    "for T in [Float16, Float32, Float64]\n",
    "    println(T, '\\t', floatmin(T), '\\t', floatmax(T), '\\t', typemin(T), \n",
    "        '\\t', typemax(T), '\\t', eps(T))\n",
    "end"
   ]
  },
  {
   "cell_type": "markdown",
   "metadata": {},
   "source": [
    "* `BigFloat` in Julia offers arbitrary precision."
   ]
  },
  {
   "cell_type": "code",
   "execution_count": 33,
   "metadata": {},
   "outputs": [
    {
     "name": "stdout",
     "output_type": "stream",
     "text": [
      "precision(BigFloat) = 256\n",
      "floatmin(BigFloat) = 8.50969131174083613912978790962048280567755996982969624908264897850135431080301e-1388255822130839284\n",
      "floatmax(BigFloat) = 5.875653789111587590936911998878442589938516392745498308333779606469323584389875e+1388255822130839282\n"
     ]
    }
   ],
   "source": [
    "@show precision(BigFloat)\n",
    "@show floatmin(BigFloat)\n",
    "@show floatmax(BigFloat);"
   ]
  },
  {
   "cell_type": "markdown",
   "metadata": {},
   "source": [
    "---"
   ]
  },
  {
   "cell_type": "code",
   "execution_count": 34,
   "metadata": {},
   "outputs": [
    {
     "name": "stdout",
     "output_type": "stream",
     "text": [
      "BigFloat(π) = 3.141592653589793238462643383279502884197169399375105820974944592307816406286198\n",
      "BigFloat(π) = 3.141592653589793238462643383279502884197169399375105820974944592307816406286208998628034825342117067982148086513282306647093844609550582231725359408128481117450284102701938521105559644622948954930381964428810975665933446128475648233786783165271201909145648566923460348610454326648213393607260249141273724586997\n"
     ]
    }
   ],
   "source": [
    "@show BigFloat(π); # default precision for BigFloat is 256 bits\n",
    "# set precision to 1024 bits\n",
    "setprecision(BigFloat, 1024) do \n",
    "    @show BigFloat(π)\n",
    "end;"
   ]
  },
  {
   "cell_type": "markdown",
   "metadata": {},
   "source": [
    "## Catastrophic cancellation\n",
    "\n",
    "> The result of computation is just the digits that represented the rounding.\n",
    "\n",
    "* **Scenario 1** (benign cancellation): Addition or subtraction of two numbers of widely different magnitudes: $a+b$ or $a-b$ where $a \\gg b$ or $a \\ll b$. We lose the precision in the number of smaller magnitude. Consider \n",
    "    $$\n",
    "    a = x.xxx ... \\times 2^{30}, \\quad\n",
    "    b = y.yyy... \\times 2^{-30}\n",
    "    $$\n",
    "What happens when computer calculates $a+b$? We get $a+b=a$!\n",
    "\n",
    "---\n"
   ]
  },
  {
   "cell_type": "code",
   "execution_count": 35,
   "metadata": {},
   "outputs": [
    {
     "name": "stdout",
     "output_type": "stream",
     "text": [
      "a = 2.0 ^ 30 = 1.073741824e9\n",
      "b = 2.0 ^ -30 = 9.313225746154785e-10\n",
      "a + b == a = true\n",
      "bitstring(a) = \"0100000111010000000000000000000000000000000000000000000000000000\"\n",
      "bitstring(a + b) = \"0100000111010000000000000000000000000000000000000000000000000000\"\n"
     ]
    }
   ],
   "source": [
    "@show a = 2.0^30\n",
    "@show b = 2.0^-30\n",
    "@show a + b == a\n",
    "@show bitstring(a)\n",
    "@show bitstring(a + b);"
   ]
  },
  {
   "cell_type": "markdown",
   "metadata": {},
   "source": [
    "---\n",
    "\n",
    "Analysis: suppose we want to compute $x + y$, $x, y > 0$. Let the relative error of $x$ and $y$ be\n",
    "$$\n",
    "\\delta_x = \\frac{[x] - x}{x},\n",
    "\\quad\n",
    "\\delta_y = \\frac{[y] - y}{y}\n",
    ".\n",
    "$$\n",
    "What the computer actually calculates is $[x] + [y]$, which in turn is represented by $[ [x] + [y] ]$. The relative error of this representation is\n",
    "$$\n",
    "\\delta_{\\text{sum}} = \\frac{[[x]+[y]] - ([x]+[y])}{[x]+[y]}\n",
    ".\n",
    "$$\n",
    "Recall that $|\\delta_x|, |\\delta_y|, |\\delta_{\\text{sum}}| \\le \\epsilon_{\\max}$.\n",
    "\n",
    "---\n",
    "\n",
    "We want to find a bound of the relative error of $[[x]+[y]]$ with respect to $x+y$.\n",
    "Since $|[x]+[y]| = |x(1+\\delta_x) + y(1+\\delta_y)| \\le |x+y|(1+\\epsilon_{\\max})$, we have\n",
    "$$\n",
    "\\small\n",
    "\\begin{split}\n",
    "| [[x]+[y]]-(x+y) | &= | [[x]+[y]] - [x] - [y] + [x] - x + [y] - y | \\\\\n",
    "                   &\\le | [[x]+[y]] - [x] - [y] | +  | [x] - x | + | [y] - y | \\\\\n",
    "                   &= |\\delta_{\\text{sum}}([x]+[y])| + |\\delta_x x| + |\\delta_y y| \\\\\n",
    "                   &\\le \\epsilon_{\\max}(x+y)(1+\\epsilon_{\\max}) + \\epsilon_{\\max}x + \\epsilon_{\\max}y \\\\\n",
    "                   &\\approx 2\\epsilon_{\\max}(x+y)\n",
    "\\end{split}\n",
    "$$\n",
    "because $\\epsilon_{\\max}^2 \\approx 0$. \n",
    "\n",
    "---\n",
    "\n",
    "Thus\n",
    "$$\n",
    "\\frac{| [[x]+[y]]-(x+y) |}{|x+y|} \\le 2\\epsilon_{\\max}\n",
    "$$\n",
    "approximately."
   ]
  },
  {
   "cell_type": "markdown",
   "metadata": {},
   "source": [
    "---\n",
    "\n",
    "* **Scenario 2** (catastrophic cancellation): Subtraction of two nearly equal numbers eliminates significant digits.  $a-b$ where $a \\approx b$. Consider \n",
    "    $$\n",
    "    a = x.xxxxxxxxxx1ssss  \\quad\n",
    "    b = x.xxxxxxxxxx0tttt\n",
    "    $$\n",
    "The result is $1.vvvvu...u$ where $u$ are unassigned digits."
   ]
  },
  {
   "cell_type": "code",
   "execution_count": 36,
   "metadata": {},
   "outputs": [
    {
     "name": "stdout",
     "output_type": "stream",
     "text": [
      "bitstring(a) = \"00111111100111100000011001010001\"\n",
      "bitstring(b) = \"00111111100111100000011001010000\"\n",
      "a - b = 1.1920929f-7\n",
      "bitstring(a - b) = \"00110100000000000000000000000000\"\n",
      "Float32(1 / 2 ^ 23) = 1.1920929f-7\n"
     ]
    }
   ],
   "source": [
    "a = 1.2345678f0 # rounding\n",
    "@show bitstring(a) # rounding\n",
    "b = 1.2345677f0\n",
    "@show bitstring(b)\n",
    "@show a - b # correct result should be 1f-7\n",
    "@show bitstring(a - b)   # must be 1.0000...0 x 2^(-23)\n",
    "@show Float32(1/2^23);"
   ]
  },
  {
   "cell_type": "markdown",
   "metadata": {},
   "source": [
    "---\n",
    "\n",
    "Analysis: Let\n",
    "    $$\n",
    "    [x] = 1 + \\sum_{i=1}^{p-2}\\frac{d_{i+1}}{2^i} + \\frac{1}{2^{p-1}},\n",
    "    \\quad\n",
    "    [y] = 1 + \\sum_{i=1}^{p-2}\\frac{d_{i+1}}{2^i} + \\frac{0}{2^{p-1}}\n",
    "    .\n",
    "    $$\n",
    "\n",
    "* $[x]-[y] = \\frac{1}{2^{p-1}} = [[x]-[y]]$.\n",
    "\n",
    "* The true difference $x-y$ may lie anywhere in $(0, \\frac{1}{2^{p-2}}]$.\n",
    "\n",
    "* Relative error \n",
    "$$\n",
    "\\frac{|x-y -[[x]-[y]]|}{|x-y|}\n",
    "$$\n",
    "is unbounded -- no guarantee of any significant digit!"
   ]
  },
  {
   "cell_type": "markdown",
   "metadata": {},
   "source": [
    "---\n",
    "\n",
    "* Implications for numerical computation\n",
    "    - Rule 1: add small numbers together before adding larger ones  \n",
    "    - Rule 2: add numbers of like magnitude together (paring). When all numbers are of same sign and similar magnitude, add in pairs so each stage the summands are of similar magnitude  \n",
    "    - Rule 3: avoid substraction of two numbers that are nearly equal"
   ]
  },
  {
   "cell_type": "markdown",
   "metadata": {},
   "source": [
    "---\n",
    "\n",
    "### Algebraic laws\n",
    "\n",
    "Floating-point numbers may violate many algebraic laws we are familiar with, such associative and distributive laws. See the example in the Machine Epsilon section and HW1."
   ]
  },
  {
   "cell_type": "markdown",
   "metadata": {},
   "source": [
    "## Coditioning\n",
    "\n",
    "Consider solving a linear system $Ax=b$:\n",
    "\n",
    "$$\n",
    "\\begin{bmatrix} 1.000 & 0.500 \\\\ 0.667 & 0.333 \\end{bmatrix}\n",
    "\\begin{bmatrix} x_1 \\\\ x_2 \\end{bmatrix}\n",
    "=\n",
    "\\begin{bmatrix} 1.500 \\\\ 1.000 \\end{bmatrix}\n",
    ",\n",
    "$$\n",
    "\n",
    "whose solution is $(x_1, x_2) = (1.000, 1.000)$."
   ]
  },
  {
   "cell_type": "code",
   "execution_count": 37,
   "metadata": {},
   "outputs": [
    {
     "data": {
      "text/plain": [
       "2-element Vector{Float64}:\n",
       " 0.9999999999998335\n",
       " 1.000000000000333"
      ]
     },
     "execution_count": 37,
     "metadata": {},
     "output_type": "execute_result"
    }
   ],
   "source": [
    "A=[1.0 0.5; 0.667 0.333]; b = [1.5, 1.0]; A\\b"
   ]
  },
  {
   "cell_type": "markdown",
   "metadata": {},
   "source": [
    "---\n",
    "\n",
    "If we *perturb* $b$ by 0.001, i.e., solve\n",
    "\n",
    "$$\n",
    "\\begin{bmatrix} 1.000 & 0.500 \\\\ 0.667 & 0.333 \\end{bmatrix}\n",
    "\\begin{bmatrix} x_1 \\\\ x_2 \\end{bmatrix}\n",
    "=\n",
    "\\begin{bmatrix} 1.500 \\\\ 0.999 \\end{bmatrix}\n",
    ",\n",
    "$$\n",
    "\n",
    "then the solution changes to $(x_1, x_2) = (0.000, 3.000)$."
   ]
  },
  {
   "cell_type": "code",
   "execution_count": 38,
   "metadata": {},
   "outputs": [
    {
     "data": {
      "text/plain": [
       "2-element Vector{Float64}:\n",
       " -1.6653345369377348e-13\n",
       "  3.000000000000333"
      ]
     },
     "execution_count": 38,
     "metadata": {},
     "output_type": "execute_result"
    }
   ],
   "source": [
    "b1 = [1.5, 0.999]; A\\b1"
   ]
  },
  {
   "cell_type": "markdown",
   "metadata": {},
   "source": [
    "---\n",
    "\n",
    "If we instead perturb $A$ by 0.001, i.e., solve\n",
    "\n",
    "$$\n",
    "\\begin{bmatrix} 1.000 & 0.500 \\\\ 0.667 & 0.334 \\end{bmatrix}\n",
    "\\begin{bmatrix} x_1 \\\\ x_2 \\end{bmatrix}\n",
    "=\n",
    "\\begin{bmatrix} 1.500 \\\\ 1.000 \\end{bmatrix}\n",
    ",\n",
    "$$\n",
    "\n",
    "then this time the solution changes to $(x_1, x_2) = (2.000, -1.000)$."
   ]
  },
  {
   "cell_type": "code",
   "execution_count": 39,
   "metadata": {},
   "outputs": [
    {
     "data": {
      "text/plain": [
       "2-element Vector{Float64}:\n",
       "  2.0000000000001665\n",
       " -1.000000000000333"
      ]
     },
     "execution_count": 39,
     "metadata": {},
     "output_type": "execute_result"
    }
   ],
   "source": [
    "A1=[1.0 0.5; 0.667 0.334]; A1\\b"
   ]
  },
  {
   "cell_type": "markdown",
   "metadata": {},
   "source": [
    "In other words, an input perturbation of order $10^{-3}$ yield an output perturbation of order $10^0$. Thats 3 orders of magnutide of relative change!"
   ]
  },
  {
   "cell_type": "markdown",
   "metadata": {},
   "source": [
    "---\n",
    "\n",
    "Floating point representation $[x]$ of a real number $x$ may introduce such input perturbation easily. The perturbation of output of a problem with respect to the input is called *conditioning*.\n",
    "\n",
    "---\n",
    "\n",
    "* Abstractly, a *problem* can be viewed as function $f: \\mathcal{X} \\to \\mathcal{Y}$ where $\\mathcal{X}$ is a normed vector space of data and $\\mathcal{Y}$ is a normed vector space of solutions.\n",
    "    - The problem of solving $Ax=b$ for fixed $b$ is $f: A \\mapsto A^{-1}b$ with $\\mathcal{X}=\\{M\\in\\mathbb{R}^{n\\times n}: M \\text{ is invertible} \\}$ and $\\mathcal{Y} = \\mathbb{R}^n$.\n",
    "    - The combination of a problem $f$ with a given data $x$ is called a *problem instance*, or simply problem unless no confusion occurs.\n",
    "\n",
    "---\n",
    "\n",
    "* A *well-conditioned* problem (instance) is one such that all small perturbations of $x$ lead to only small changes in $f(x)$.\n",
    "\n",
    "* An *ill-conditioned* problem is one such that some small perturbation of $x$ leads to a large change in $f(x)$.\n",
    "\n",
    "* The (relative) *condition number* $\\kappa=\\kappa(\\theta)$ of a problem is defined by\n",
    "    $$\n",
    "    \\kappa = \\lim_{\\delta\\to 0}\\sup_{\\|\\delta \\theta\\|\\le \\delta}\\frac{\\|\\delta f\\|/\\|f(\\theta)\\|}{\\|\\delta \\theta\\|/\\|\\theta\\|}\n",
    "    ,\n",
    "    $$\n",
    "where $\\delta f = f(\\theta + \\delta \\theta) - f(\\theta)$.\n",
    "\n",
    "---\n",
    "\n",
    "* For the problem of solving $Ax=b$ for fixed $b$,  $f: A \\mapsto A^{-1}b$, it can be shown that the condition number of $f$ is\n",
    "    $$\n",
    "    \\kappa = \\|A\\|\\|A^{-1}\\| =: \\kappa(A)\n",
    "    ,\n",
    "    $$\n",
    "where $\\|A\\|$ is the matrix norm induced by vector norm $\\|\\cdot\\|$, i.e.,\n",
    "    $$\n",
    "    \\|A\\| = \\sup_{x\\neq 0} \\frac{\\|Ax\\|}{\\|x\\|}.\n",
    "    $$"
   ]
  },
  {
   "cell_type": "markdown",
   "metadata": {},
   "source": [
    "---\n",
    "\n",
    "* To see this, recall $f(A) = A^{-1}b = x$. Since $b = Ax$ and the LHS is fixed, if a perturbation of the input $A \\to A + \\delta A$ yields a perturbation of the output $x \\to x + \\delta x$ or $f \\to f + \\delta f$, then we have\n",
    "    $$\n",
    "    0 = (\\delta A) x + A \\delta x + (\\delta A) \\delta x \n",
    "    $$\n",
    "or\n",
    "    $$\n",
    "    \\delta x = -A^{-1}(\\delta A)x + o(\\Vert \\delta A \\Vert)\n",
    "    .\n",
    "    $$\n",
    "That is, $\\delta f = f(A + \\delta A) - f(A) = - A^{-1}(\\delta A)A^{-1}b + o(\\Vert \\delta A \\Vert)$. \n",
    "\n",
    "---\n",
    "\n",
    "* Then\n",
    "    $$\n",
    "    \\begin{aligned}\n",
    "    \\kappa &= \\lim_{\\delta\\to 0}\\sup_{\\|\\delta A\\|\\le \\delta}\\frac{(\\Vert A^{-1}(\\delta A)A^{-1}b\\Vert + o(\\Vert \\delta A \\Vert)\\Vert) / \\Vert A^{-1}b \\Vert}{\\Vert \\delta A \\Vert / \\Vert A \\Vert}\n",
    "    \\\\\n",
    "    &=\n",
    "    \\lim_{\\delta\\to 0}\\sup_{\\|\\delta A\\|\\le \\delta} \\frac{\\Vert A^{-1}(\\delta A)A^{-1}b\\Vert / \\Vert A^{-1}b \\Vert}{\\Vert \\delta A \\Vert / \\Vert A \\Vert} + o(1)\n",
    "    \\\\\n",
    "    &=\n",
    "    \\lim_{\\delta\\to 0}\\sup_{\\|\\delta A\\|\\le \\delta} \\frac{\\Vert A^{-1}(\\delta A)A^{-1}b\\Vert / \\Vert A^{-1}b \\Vert}{\\Vert \\delta A \\Vert / \\Vert A \\Vert}\n",
    "    .\n",
    "    \\end{aligned}\n",
    "    $$\n",
    "    \n",
    "---\n",
    "\n",
    "* From the property of a matrix norm $\\|AB\\| \\leq \\|A\\|\\|B\\|$,\n",
    "    $$\n",
    "    \\frac{\\Vert A^{-1}(\\delta A)A^{-1}b\\Vert / \\Vert A^{-1}b \\Vert}{\\Vert \\delta A \\Vert / \\Vert A \\Vert}\n",
    "    \\le\n",
    "    \\frac{\\Vert A^{-1} \\Vert \\Vert \\delta A \\Vert \\Vert A^{-1}b\\Vert / \\Vert A^{-1}b \\Vert}{\\Vert \\delta A \\Vert / \\Vert A \\Vert}\n",
    "%    = \\Vert A^{-1} \\Vert \\Vert A \\Vert\n",
    "    ,\n",
    "    $$\n",
    "hence $\\kappa \\le \\Vert A^{-1} \\Vert \\Vert A \\Vert$.\n",
    "\n",
    "* It can be shown that for any invertible $A$ and $b$, there exits a perturbation $\\delta A$ such that\n",
    "$$\n",
    "    \\frac{\\Vert A^{-1}(\\delta A)A^{-1}b\\Vert / \\Vert A^{-1}b \\Vert}{\\Vert \\delta A \\Vert / \\Vert A \\Vert}\n",
    "    = \\Vert A^{-1} \\Vert \\Vert A \\Vert\n",
    "    .\n",
    "$$\n",
    "\n",
    "* It follows that $\\kappa \\ge \\Vert A^{-1} \\Vert \\Vert A \\Vert$."
   ]
  },
  {
   "cell_type": "markdown",
   "metadata": {},
   "source": [
    "---\n",
    "\n",
    "* If Euclidean norm is used, then \n",
    "$$\n",
    "\\kappa(A) = \\sigma_{\\max}(A)/\\sigma_{\\min}(A),\n",
    "$$\n",
    "the ratio of the maximum and minimum singular values of $A$. "
   ]
  },
  {
   "cell_type": "markdown",
   "metadata": {},
   "source": [
    "In the above problem, the condition number is matrix $A$ (w.r.t. Euclidean norm) is"
   ]
  },
  {
   "cell_type": "code",
   "execution_count": 40,
   "metadata": {},
   "outputs": [
    {
     "data": {
      "text/plain": [
       "3611.5557231115513"
      ]
     },
     "execution_count": 40,
     "metadata": {},
     "output_type": "execute_result"
    }
   ],
   "source": [
    "using LinearAlgebra\n",
    "LinearAlgebra.cond(A)"
   ]
  },
  {
   "cell_type": "markdown",
   "metadata": {},
   "source": [
    "## Further readings\n",
    "\n",
    "* Section II.2, [Computational Statistics](https://link.springer.com/book/10.1007%2F978-0-387-98144-4) by James Gentle (2009).\n",
    "\n",
    "* Sections 1.5 and 2.2, [Applied Numerical Linear Algebra](https://doi.org/10.1137/1.9781611971446) by James W. Demmel (1997).\n",
    "\n",
    "* [What every computer scientist should know about floating-point arithmetic](https://www.itu.dk/~sestoft/bachelor/IEEE754_article.pdf) by David Goldberg (1991)."
   ]
  }
 ],
 "metadata": {
  "kernelspec": {
   "display_name": "Julia 1.9.3",
   "language": "julia",
   "name": "julia-1.9"
  },
  "language_info": {
   "file_extension": ".jl",
   "mimetype": "application/julia",
   "name": "julia",
   "version": "1.9.3"
  },
  "toc": {
   "colors": {
    "hover_highlight": "#DAA520",
    "running_highlight": "#FF0000",
    "selected_highlight": "#FFD700"
   },
   "moveMenuLeft": true,
   "nav_menu": {
    "height": "250px",
    "width": "252px"
   },
   "navigate_menu": true,
   "number_sections": true,
   "sideBar": true,
   "skip_h1_title": true,
   "threshold": 4,
   "toc_cell": true,
   "toc_section_display": "block",
   "toc_window_display": true,
   "widenNotebook": false
  }
 },
 "nbformat": 4,
 "nbformat_minor": 4
}

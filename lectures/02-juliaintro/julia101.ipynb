{
 "cells": [
  {
   "cell_type": "raw",
   "id": "e7ad36ad-91e8-43fe-aeef-9137df1851d8",
   "metadata": {},
   "source": [
    "---\n",
    "title: \"A Brief Introduction to Julia\"\n",
    "subtitle: Advanced Statistical Computing\n",
    "author: Joong-Ho Won\n",
    "date: Fall 2023\n",
    "institute: Seoul National University\n",
    "execute:\n",
    "  echo: true\n",
    "format:\n",
    "  revealjs:\n",
    "    toc: false\n",
    "    theme: dark\n",
    "    code-fold: false    \n",
    "jupyter: julia    \n",
    "---"
   ]
  },
  {
   "cell_type": "markdown",
   "id": "70e7700e-65e9-46b0-85a0-8422804c765c",
   "metadata": {},
   "source": [
    "# A quick CS101"
   ]
  },
  {
   "cell_type": "markdown",
   "id": "e7c6aba4-c60c-419e-9996-3d15d06ba9fb",
   "metadata": {},
   "source": [
    "## What is a computer?\n",
    "\n",
    "Modern computer can be defined as\n",
    "\n",
    "> machines that store and manipulate information under the control of a changeable program.\n",
    "\n",
    "Two key elements:\n",
    "\n",
    "* Machines for manipulating information\n",
    "* Control by a changeable program"
   ]
  },
  {
   "cell_type": "markdown",
   "id": "8349dc57-7cf6-4eae-83f4-09094d9f0e86",
   "metadata": {},
   "source": [
    "## What is a computer program?\n",
    "\n",
    "* A detailed, step-by-step set of instructions telling a computer what to do.\n",
    "* If we change the program, the computer performs a different set of actions or a different task.\n",
    "* The machine stays the same, but the program changes!\n",
    "\n",
    "* Programs are *executed*, or carried out.\n",
    "\n",
    "---\n",
    "\n",
    "* Software (programs) rule the hardware (the physical machine).\n",
    "* The process of creating this software is called *programming*."
   ]
  },
  {
   "cell_type": "markdown",
   "id": "c6064d5a-58d6-474a-b547-9f6cc5ada2e1",
   "metadata": {},
   "source": [
    "## Algorithm\n",
    "\n",
    "* One way to show a particular problem can be solved is to actually design a solution.\n",
    "\n",
    "* This is done by developing an algorithm, a step-by-step process for achieving the desired result."
   ]
  },
  {
   "cell_type": "markdown",
   "id": "577c974d-42cd-4568-a09c-7acdc5420575",
   "metadata": {},
   "source": [
    "## Hardware Basics\n",
    "\n",
    "* The central processing unit (CPU) is the “brain” of a computer.\n",
    "    + The CPU carries out all the basic operations on the data.\n",
    "    + Examples: simple arithmetic operations, testing to see if two numbers are equal.\n",
    "\n",
    "---\n",
    "\n",
    "* Memory stores programs and data.\n",
    "    + CPU can only directly access information stored in main memory (RAM or Random Access Memory).\n",
    "    + Main memory is fast, but volatile, i.e. when the power is interrupted, the contents of memory are lost.\n",
    "    + Secondary memory provides more permanent storage: magnetic (hard drive, floppy), optical (CD, DVD), flash (SSD)\n",
    "\n",
    "---\n",
    "\n",
    "* I/O \n",
    "    + Input devices: Information is passed to the computer through keyboards, mice, etc.\n",
    "    + Output devices: Processed information is presented to the user through the monitor, printer, etc.\n",
    "\n",
    "---\n",
    "\n",
    "* Fetch-Execute Cycle\n",
    "    + First instruction retrieved from memory\n",
    "    + Decode the instruction to see what it represents\n",
    "    + Appropriate action carried out.\n",
    "    + Next instruction fetched, decoded, and executed."
   ]
  },
  {
   "cell_type": "markdown",
   "id": "3a8a61e8-b439-40d7-a733-d9cd861bd6d8",
   "metadata": {},
   "source": [
    "## Programming Languages\n",
    "\n",
    "Natural language has ambiguity and imprecision problems when used to describe complex algorithms.\n",
    "\n",
    "* Programs are expressed in an unambiguous, precise way using programming languages.\n",
    "* Every structure in programming language has a precise form, called its *syntax*.\n",
    "* Every structure in programming language has a precise meaning, called its *semantics*.\n",
    "\n",
    "---\n",
    "\n",
    "* Programmers will often refer to their program as computer code.\n",
    "* Process of writing an algorithm in a programming language often called coding."
   ]
  },
  {
   "cell_type": "markdown",
   "id": "87d452fe-69ab-4bb0-b069-e94bfa3613d9",
   "metadata": {},
   "source": [
    "## Low-level Languages\n",
    "\n",
    "Computer hardware can only understand a very low level language known as *machine language*.\n",
    "\n",
    "* Example: add two numbers in ARM assembly\n",
    "```\n",
    "    @ Load the first number in memory address 0x2021 into register R0\n",
    "    ldr r0, 0x2021\n",
    "    ldr r0, [r0]\n",
    "\n",
    "    @ Load the second number in memory address 0x2022 into register R1\n",
    "    ldr r1, 0x2022\n",
    "    ldr r1, [r1]\n",
    "\n",
    "    @ Add the numbers in R0 and R1 and store the result in R2\n",
    "    add r2, r0, r1\n",
    "\n",
    "    @ Store the result in memory address 0x2023\n",
    "    ldr r3, 0x2023\n",
    "    str r2, [r3]\n",
    "```    \n",
    "\n",
    "---\n",
    "\n",
    "In reality, these low-level instructions are represented in binary (1’s and 0’s)"
   ]
  },
  {
   "cell_type": "markdown",
   "id": "1d75ba69-bdbd-41d5-bdbb-a60383192ae5",
   "metadata": {},
   "source": [
    "## High-level Languages\n",
    "\n",
    "Designed to be used and understood by humans\n",
    "\n",
    "```julia\n",
    "c = a + b\n",
    "```\n",
    "* This needs to be translated into the machine language that the computer can execute.\n",
    "* *Compilers* convert programs written in a high-level language (source code) into the target machine language.\n",
    "    + Fortran, C/C++, Java, Go, Swift\n",
    "\n",
    "---\n",
    "\n",
    "* *Interpreters* simulate a computer that understands a high-level language.\n",
    "* The source code is not translated into machine language all at once.\n",
    "* An interpreter analyzes and executes the source code instruction by instruction.\n",
    "* Interpreted languages are part of a more flexible programming environment since they can be developed and run *interactively*, at the expense of slower execution time than compiled languages.\n",
    "    + Commandline shells, Lisp, R, Python, Julia"
   ]
  },
  {
   "cell_type": "markdown",
   "id": "6d3b6218-af8a-497b-a2a3-a754d577c480",
   "metadata": {},
   "source": [
    "## Dynamic Languages\n",
    "\n",
    "<!--\n",
    "[The Life of a Bytecode Language](https://betterprogramming.pub/the-life-of-a-bytecode-language-fca666928e7b)\n",
    "-->\n",
    "\n",
    "* A dynamic programming language is a class of high-level programming languages, which at *runtime* can change the behavior of the program by adding new code.\n",
    "   + Also called a *scripting language*\n",
    "\n",
    "* Most dynamic languages are interpreted languages, providing an interactive read-eval-print loop (*REPL*). \n",
    "\n",
    "* Traditional interpreters *parse* the source code into an intermediate representation (IR) such as an abstract syntax tree (AST) and execute predetermined routines."
   ]
  },
  {
   "cell_type": "markdown",
   "id": "b532423d-5088-4f1e-9447-7c53b0f3c43f",
   "metadata": {},
   "source": [
    "## Just-in-time Compilation\n",
    "\n",
    "* Modern interpreters *compiles* the parsed IR to native machine code at runtime. If the same part of the source code (e.g., function) is executed again, then the compiled native code is executed. This technique is called *just-in-time (JIT) compilation*.\n",
    "    + For subsequent uses (e.g., calling the function within a loop), the speedup is significant.\n",
    "\n",
    "* More and more interpreter languages are adopting JIT technology: R (version 3.4+), MATLAB (R2015b+), Python (PyPy), Julia, ...\n",
    "\n",
    "---\n",
    "\n",
    "* Distinction between complier and interpreter languages is getting blurred due to improved computation capabilities of the modern hardware and advanced compiler techniques."
   ]
  },
  {
   "cell_type": "markdown",
   "id": "d66661a7-2777-4e74-9a56-dbc775ea4c1b",
   "metadata": {},
   "source": [
    "# Julia\n",
    "\n",
    "<img src=\"./julia_logo.png\" align=\"center\" width=\"400\"/>"
   ]
  },
  {
   "cell_type": "markdown",
   "id": "f9a70046-e1c9-454c-b550-5b5754ed2a47",
   "metadata": {},
   "source": [
    "## What's Julia?\n",
    "\n",
    "> Julia is a high-level, high-performance dynamic programming language for technical computing, with syntax that is familiar to users of other technical computing environments.\n",
    "\n",
    "- Project started in 2009. First public release in 2012 \n",
    "    + Creators: Jeff Bezanson, Alan Edelman, Stefan Karpinski, Viral Shah\n",
    "- First major release: v1.0 on Aug 8, 2018\n",
    "- Current stable release: v1.9.3 (August 24, 2023)\n",
    "\n",
    "---\n",
    "\n",
    "* Aim to solve the notorious **two language problem**: Prototype code goes into high-level languages like R/Python, production code goes into low-level language like C/C++. \n",
    "\n",
    "* Julia aims to:\n",
    "\n",
    "> Walks like Python. Runs like C.\n",
    "\n",
    "* Write high-level, abstract code that closely resembles mathematical formulas\n",
    "    - yet produces fast, low-level machine code that has traditionally only been generated by static languages.\n",
    "\n",
    "\n",
    "---\n",
    "\n",
    "![<https://julialang.org/benchmarks/>](https://julialang.org/assets/images/benchmarks.svg)"
   ]
  },
  {
   "cell_type": "markdown",
   "id": "af093f72-d994-43c1-9919-d8941e5ccee2",
   "metadata": {},
   "source": [
    "## Some basic Julia code"
   ]
  },
  {
   "cell_type": "code",
   "execution_count": 1,
   "id": "eab5a7de-032b-49ed-a8ee-823f1eb8c1eb",
   "metadata": {},
   "outputs": [
    {
     "data": {
      "text/plain": [
       "Int64"
      ]
     },
     "execution_count": 1,
     "metadata": {},
     "output_type": "execute_result"
    }
   ],
   "source": [
    "# an integer, same as int in R\n",
    "y = 1\n",
    "typeof(y) "
   ]
  },
  {
   "cell_type": "code",
   "execution_count": 2,
   "id": "027ffb62-896b-4583-92ce-a828900263db",
   "metadata": {},
   "outputs": [
    {
     "data": {
      "text/plain": [
       "Float64"
      ]
     },
     "execution_count": 2,
     "metadata": {},
     "output_type": "execute_result"
    }
   ],
   "source": [
    "# a Float64 number, same as double in R\n",
    "y = 1.0\n",
    "typeof(y) "
   ]
  },
  {
   "cell_type": "code",
   "execution_count": 3,
   "id": "155b32fa-121c-4e0f-9bf3-d665f6d2a187",
   "metadata": {},
   "outputs": [
    {
     "data": {
      "text/plain": [
       "π = 3.1415926535897..."
      ]
     },
     "execution_count": 3,
     "metadata": {},
     "output_type": "execute_result"
    }
   ],
   "source": [
    "# Greek letters:  `\\pi<tab>`\n",
    "π"
   ]
  },
  {
   "cell_type": "code",
   "execution_count": 4,
   "id": "276ce1f4-8e29-48af-abcf-caf419197d53",
   "metadata": {},
   "outputs": [
    {
     "data": {
      "text/plain": [
       "Irrational{:π}"
      ]
     },
     "execution_count": 4,
     "metadata": {},
     "output_type": "execute_result"
    }
   ],
   "source": [
    "typeof(π)"
   ]
  },
  {
   "cell_type": "code",
   "execution_count": 5,
   "id": "770a7091-d548-4468-bf2c-cb3975f59f3d",
   "metadata": {},
   "outputs": [
    {
     "data": {
      "text/plain": [
       "4.141592653589793"
      ]
     },
     "execution_count": 5,
     "metadata": {},
     "output_type": "execute_result"
    }
   ],
   "source": [
    "# Greek letters:  `\\theta<tab>`\n",
    "θ = y + π"
   ]
  },
  {
   "cell_type": "markdown",
   "id": "061d6080-98ba-4ad0-80d2-2209874a4739",
   "metadata": {},
   "source": [
    "---"
   ]
  },
  {
   "cell_type": "code",
   "execution_count": 6,
   "id": "6b162825-7da0-4439-876c-6b85d6416cdc",
   "metadata": {},
   "outputs": [
    {
     "data": {
      "text/plain": [
       "5.0"
      ]
     },
     "execution_count": 6,
     "metadata": {},
     "output_type": "execute_result"
    }
   ],
   "source": [
    "# emoji! `\\:kissing_cat:<tab>`\n",
    "😽 = 5.0"
   ]
  },
  {
   "cell_type": "code",
   "execution_count": 7,
   "id": "cfcd82d1-a8b8-4162-9db3-bbb8cfab1c5a",
   "metadata": {},
   "outputs": [
    {
     "data": {
      "text/plain": [
       "π = 3.1415926535897..."
      ]
     },
     "execution_count": 7,
     "metadata": {},
     "output_type": "execute_result"
    }
   ],
   "source": [
    "# `\\alpha<tab>\\hat<tab>`\n",
    "α̂ = π"
   ]
  },
  {
   "cell_type": "code",
   "execution_count": 8,
   "id": "422c2246-e2fd-41c3-ab73-63122ecbf7d6",
   "metadata": {},
   "outputs": [
    {
     "data": {
      "text/plain": [
       "5-element Vector{Float64}:\n",
       " 0.0\n",
       " 0.0\n",
       " 0.0\n",
       " 0.0\n",
       " 0.0"
      ]
     },
     "execution_count": 8,
     "metadata": {},
     "output_type": "execute_result"
    }
   ],
   "source": [
    "# vector of Float64 0s\n",
    "x = zeros(5)"
   ]
  },
  {
   "cell_type": "code",
   "execution_count": 9,
   "id": "be283cbb-989e-41e0-af67-2aa32cfdc10d",
   "metadata": {},
   "outputs": [
    {
     "data": {
      "text/plain": [
       "5-element Vector{Int64}:\n",
       " 0\n",
       " 0\n",
       " 0\n",
       " 0\n",
       " 0"
      ]
     },
     "execution_count": 9,
     "metadata": {},
     "output_type": "execute_result"
    }
   ],
   "source": [
    "# vector Int64 0s\n",
    "x = zeros(Int, 5)"
   ]
  },
  {
   "cell_type": "markdown",
   "id": "d74fe032-b37f-49e2-a52b-f8e8f06f3d6a",
   "metadata": {},
   "source": [
    "---"
   ]
  },
  {
   "cell_type": "code",
   "execution_count": 10,
   "id": "6346302d-785f-423e-85f1-d0abb66a934e",
   "metadata": {},
   "outputs": [
    {
     "data": {
      "text/plain": [
       "5×3 Matrix{Float64}:\n",
       " 0.0  0.0  0.0\n",
       " 0.0  0.0  0.0\n",
       " 0.0  0.0  0.0\n",
       " 0.0  0.0  0.0\n",
       " 0.0  0.0  0.0"
      ]
     },
     "execution_count": 10,
     "metadata": {},
     "output_type": "execute_result"
    }
   ],
   "source": [
    "# matrix of Float64 0s\n",
    "x = zeros(5, 3)"
   ]
  },
  {
   "cell_type": "code",
   "execution_count": 11,
   "id": "190a8c39-4e25-4585-9ca3-3dda0082f990",
   "metadata": {},
   "outputs": [
    {
     "data": {
      "text/plain": [
       "5×3 Matrix{Float64}:\n",
       " 1.0  1.0  1.0\n",
       " 1.0  1.0  1.0\n",
       " 1.0  1.0  1.0\n",
       " 1.0  1.0  1.0\n",
       " 1.0  1.0  1.0"
      ]
     },
     "execution_count": 11,
     "metadata": {},
     "output_type": "execute_result"
    }
   ],
   "source": [
    "# matrix of Float64 1s\n",
    "x = ones(5, 3)"
   ]
  },
  {
   "cell_type": "code",
   "execution_count": 12,
   "id": "b5c3b8e2-3958-44ff-aa22-3931e8aabb66",
   "metadata": {},
   "outputs": [
    {
     "data": {
      "text/plain": [
       "5×3 Matrix{Float64}:\n",
       " 2.23823e-314  2.23823e-314  2.23823e-314\n",
       " 2.23823e-314  2.23823e-314  2.23823e-314\n",
       " 2.23823e-314  2.23823e-314  2.23823e-314\n",
       " 2.23823e-314  2.23823e-314  2.23823e-314\n",
       " 2.23823e-314  2.23823e-314  2.23823e-314"
      ]
     },
     "execution_count": 12,
     "metadata": {},
     "output_type": "execute_result"
    }
   ],
   "source": [
    "# define array without initialization\n",
    "x = Matrix{Float64}(undef, 5, 3)"
   ]
  },
  {
   "cell_type": "markdown",
   "id": "002cf858-7d26-4204-a838-e028101d5f4c",
   "metadata": {},
   "source": [
    "---"
   ]
  },
  {
   "cell_type": "code",
   "execution_count": 13,
   "id": "881458a8-1259-4590-bb20-1c72ba131d35",
   "metadata": {},
   "outputs": [
    {
     "data": {
      "text/plain": [
       "5×3 Matrix{Float64}:\n",
       " 0.0  0.0  0.0\n",
       " 0.0  0.0  0.0\n",
       " 0.0  0.0  0.0\n",
       " 0.0  0.0  0.0\n",
       " 0.0  0.0  0.0"
      ]
     },
     "execution_count": 13,
     "metadata": {},
     "output_type": "execute_result"
    }
   ],
   "source": [
    "# fill a matrix by 0s\n",
    "fill!(x, 0)"
   ]
  },
  {
   "cell_type": "code",
   "execution_count": 14,
   "id": "b516ea0a-3826-4f19-97d8-97be1cfce970",
   "metadata": {},
   "outputs": [
    {
     "data": {
      "text/plain": [
       "5×3 Matrix{Float64}:\n",
       " 0.0  0.0  0.0\n",
       " 0.0  0.0  0.0\n",
       " 0.0  0.0  0.0\n",
       " 0.0  0.0  0.0\n",
       " 0.0  0.0  0.0"
      ]
     },
     "execution_count": 14,
     "metadata": {},
     "output_type": "execute_result"
    }
   ],
   "source": [
    "x"
   ]
  },
  {
   "cell_type": "code",
   "execution_count": 15,
   "id": "2abaaacc-4c0f-492a-a0f6-345ec4614d33",
   "metadata": {},
   "outputs": [
    {
     "data": {
      "text/plain": [
       "5×3 Matrix{Float64}:\n",
       " 2.5  2.5  2.5\n",
       " 2.5  2.5  2.5\n",
       " 2.5  2.5  2.5\n",
       " 2.5  2.5  2.5\n",
       " 2.5  2.5  2.5"
      ]
     },
     "execution_count": 15,
     "metadata": {},
     "output_type": "execute_result"
    }
   ],
   "source": [
    "# initialize an array to be constant 2.5\n",
    "fill(2.5, (5, 3))"
   ]
  },
  {
   "cell_type": "markdown",
   "id": "56d103b1-634c-4635-a420-c6b1f2c8409c",
   "metadata": {},
   "source": [
    "---"
   ]
  },
  {
   "cell_type": "code",
   "execution_count": 16,
   "id": "a0514d67-91b5-4d73-bc16-b7fce3e0bcea",
   "metadata": {},
   "outputs": [
    {
     "data": {
      "text/plain": [
       "3//5"
      ]
     },
     "execution_count": 16,
     "metadata": {},
     "output_type": "execute_result"
    }
   ],
   "source": [
    "# rational number\n",
    "a = 3//5"
   ]
  },
  {
   "cell_type": "code",
   "execution_count": 17,
   "id": "5eacaf35-3807-44d7-ab97-0773269a2dcc",
   "metadata": {},
   "outputs": [
    {
     "data": {
      "text/plain": [
       "Rational{Int64}"
      ]
     },
     "execution_count": 17,
     "metadata": {},
     "output_type": "execute_result"
    }
   ],
   "source": [
    "typeof(a)"
   ]
  },
  {
   "cell_type": "code",
   "execution_count": 18,
   "id": "8c794dbb-280b-49e9-92da-fa1629b10f6f",
   "metadata": {},
   "outputs": [
    {
     "data": {
      "text/plain": [
       "3//7"
      ]
     },
     "execution_count": 18,
     "metadata": {},
     "output_type": "execute_result"
    }
   ],
   "source": [
    "b = 3//7"
   ]
  },
  {
   "cell_type": "code",
   "execution_count": 19,
   "id": "28149e43-660b-4125-b485-963081cec316",
   "metadata": {},
   "outputs": [
    {
     "data": {
      "text/plain": [
       "36//35"
      ]
     },
     "execution_count": 19,
     "metadata": {},
     "output_type": "execute_result"
    }
   ],
   "source": [
    "a + b"
   ]
  },
  {
   "cell_type": "markdown",
   "id": "9ed9a938-a51c-4f7e-9060-f66da4d4691f",
   "metadata": {},
   "source": [
    "---"
   ]
  },
  {
   "cell_type": "code",
   "execution_count": 20,
   "id": "151212a5-e907-407b-9d7a-602e8e0d8089",
   "metadata": {},
   "outputs": [
    {
     "data": {
      "text/plain": [
       "5×3 Matrix{Float64}:\n",
       " 0.917222  0.492968   0.506997\n",
       " 0.564369  0.705425   0.594361\n",
       " 0.989855  0.254588   0.626454\n",
       " 0.929263  0.384029   0.420757\n",
       " 0.749851  0.0123611  0.110815"
      ]
     },
     "execution_count": 20,
     "metadata": {},
     "output_type": "execute_result"
    }
   ],
   "source": [
    "# uniform [0, 1) random numbers\n",
    "x = rand(5, 3)"
   ]
  },
  {
   "cell_type": "code",
   "execution_count": 21,
   "id": "3945686a-f7a8-4f7e-b62e-5289c804194d",
   "metadata": {},
   "outputs": [
    {
     "data": {
      "text/plain": [
       "5×3 Matrix{Float16}:\n",
       " 0.575   0.6143  0.672\n",
       " 0.508   0.6143  0.956\n",
       " 0.1787  0.6953  0.5127\n",
       " 0.951   0.4902  0.9736\n",
       " 0.1094  0.294   0.4346"
      ]
     },
     "execution_count": 21,
     "metadata": {},
     "output_type": "execute_result"
    }
   ],
   "source": [
    "# uniform random numbers (in Float16)\n",
    "x = rand(Float16, 5, 3)"
   ]
  },
  {
   "cell_type": "code",
   "execution_count": 22,
   "id": "69bd9d1f-98b1-4237-8e83-1bf8351b4b04",
   "metadata": {},
   "outputs": [
    {
     "data": {
      "text/plain": [
       "5×3 Matrix{Int64}:\n",
       " 5  4  2\n",
       " 4  1  1\n",
       " 3  4  4\n",
       " 3  2  2\n",
       " 2  5  1"
      ]
     },
     "execution_count": 22,
     "metadata": {},
     "output_type": "execute_result"
    }
   ],
   "source": [
    "# random numbers from {1,...,5}\n",
    "x = rand(1:5, 5, 3)"
   ]
  },
  {
   "cell_type": "markdown",
   "id": "a79dc14b-7d7d-4845-9ba2-a011dbabb883",
   "metadata": {},
   "source": [
    "---"
   ]
  },
  {
   "cell_type": "code",
   "execution_count": 23,
   "id": "83680b3b-56c3-481b-be14-65547be7da73",
   "metadata": {},
   "outputs": [
    {
     "data": {
      "text/plain": [
       "5×3 Matrix{Float64}:\n",
       " -1.35588   -2.07941   -0.0943297\n",
       "  1.48426   -2.36824   -0.121338\n",
       " -0.417874  -0.885322   0.794723\n",
       " -0.51738   -0.741182  -0.652738\n",
       "  0.80346    1.51982    0.00194865"
      ]
     },
     "execution_count": 23,
     "metadata": {},
     "output_type": "execute_result"
    }
   ],
   "source": [
    "# standard normal random numbers\n",
    "x = randn(5, 3)"
   ]
  },
  {
   "cell_type": "code",
   "execution_count": 24,
   "id": "f4890d19-e7c2-4b2e-b3fa-ec1dd4a81583",
   "metadata": {},
   "outputs": [
    {
     "data": {
      "text/plain": [
       "1:10"
      ]
     },
     "execution_count": 24,
     "metadata": {},
     "output_type": "execute_result"
    }
   ],
   "source": [
    "# range\n",
    "1:10"
   ]
  },
  {
   "cell_type": "code",
   "execution_count": 25,
   "id": "101706bd-093c-49ea-9d59-2d369280afe9",
   "metadata": {},
   "outputs": [
    {
     "data": {
      "text/plain": [
       "UnitRange{Int64}"
      ]
     },
     "execution_count": 25,
     "metadata": {},
     "output_type": "execute_result"
    }
   ],
   "source": [
    "typeof(1:10)"
   ]
  },
  {
   "cell_type": "code",
   "execution_count": 26,
   "id": "d15ce25a-08e1-4dc8-ab62-6e7d4972709b",
   "metadata": {},
   "outputs": [
    {
     "data": {
      "text/plain": [
       "1:2:9"
      ]
     },
     "execution_count": 26,
     "metadata": {},
     "output_type": "execute_result"
    }
   ],
   "source": [
    "1:2:10"
   ]
  },
  {
   "cell_type": "code",
   "execution_count": 27,
   "id": "3bb7a308-b028-47de-935f-e98a8994cf5f",
   "metadata": {},
   "outputs": [
    {
     "data": {
      "text/plain": [
       "StepRange{Int64, Int64}"
      ]
     },
     "execution_count": 27,
     "metadata": {},
     "output_type": "execute_result"
    }
   ],
   "source": [
    "typeof(1:2:10)"
   ]
  },
  {
   "cell_type": "markdown",
   "id": "caa327b3-2062-461e-a1c5-e84778268b20",
   "metadata": {},
   "source": [
    "---"
   ]
  },
  {
   "cell_type": "code",
   "execution_count": 28,
   "id": "b5b5b852-1a75-495e-b241-0e99271232f2",
   "metadata": {},
   "outputs": [
    {
     "data": {
      "text/plain": [
       "10-element Vector{Int64}:\n",
       "  1\n",
       "  2\n",
       "  3\n",
       "  4\n",
       "  5\n",
       "  6\n",
       "  7\n",
       "  8\n",
       "  9\n",
       " 10"
      ]
     },
     "execution_count": 28,
     "metadata": {},
     "output_type": "execute_result"
    }
   ],
   "source": [
    "# integers 1-10\n",
    "x = collect(1:10)"
   ]
  },
  {
   "cell_type": "code",
   "execution_count": 29,
   "id": "0b51e5e5-a07c-443f-b303-0e44e9bcf575",
   "metadata": {
    "tags": []
   },
   "outputs": [
    {
     "data": {
      "text/plain": [
       "10-element Vector{Int64}:\n",
       "  1\n",
       "  2\n",
       "  3\n",
       "  4\n",
       "  5\n",
       "  6\n",
       "  7\n",
       "  8\n",
       "  9\n",
       " 10"
      ]
     },
     "execution_count": 29,
     "metadata": {},
     "output_type": "execute_result"
    }
   ],
   "source": [
    "# or equivalently\n",
    "[1:10...]"
   ]
  },
  {
   "cell_type": "markdown",
   "id": "d2a6fa15-b750-4365-90e0-62208b0e0453",
   "metadata": {},
   "source": [
    "---"
   ]
  },
  {
   "cell_type": "code",
   "execution_count": 30,
   "id": "5612541f-eda8-421f-9d43-e1a93be8aa66",
   "metadata": {},
   "outputs": [
    {
     "data": {
      "text/plain": [
       "10-element Vector{Float64}:\n",
       "  1.0\n",
       "  2.0\n",
       "  3.0\n",
       "  4.0\n",
       "  5.0\n",
       "  6.0\n",
       "  7.0\n",
       "  8.0\n",
       "  9.0\n",
       " 10.0"
      ]
     },
     "execution_count": 30,
     "metadata": {},
     "output_type": "execute_result"
    }
   ],
   "source": [
    "# Float64 numbers 1-10\n",
    "x = collect(1.0:10)"
   ]
  },
  {
   "cell_type": "code",
   "execution_count": 31,
   "id": "bc59aacf-a808-4e27-996b-77ab18dc2f5f",
   "metadata": {
    "tags": []
   },
   "outputs": [
    {
     "data": {
      "text/plain": [
       "10-element Vector{Float64}:\n",
       "  1.0\n",
       "  2.0\n",
       "  3.0\n",
       "  4.0\n",
       "  5.0\n",
       "  6.0\n",
       "  7.0\n",
       "  8.0\n",
       "  9.0\n",
       " 10.0"
      ]
     },
     "execution_count": 31,
     "metadata": {},
     "output_type": "execute_result"
    }
   ],
   "source": [
    "# convert to a specific type\n",
    "convert(Vector{Float64}, 1:10)"
   ]
  },
  {
   "cell_type": "markdown",
   "id": "2a2e30e1-83e3-417c-ab99-2ca05be6e213",
   "metadata": {},
   "source": [
    "## Matrices and vectors"
   ]
  },
  {
   "cell_type": "markdown",
   "id": "f9a64617-2463-4861-8870-39de6c97c27b",
   "metadata": {},
   "source": [
    "### Dimensions"
   ]
  },
  {
   "cell_type": "code",
   "execution_count": 1,
   "id": "9b717c75-6982-4d2b-aabd-e99f736275bb",
   "metadata": {},
   "outputs": [
    {
     "data": {
      "text/plain": [
       "5×3 Matrix{Float64}:\n",
       " -1.10531   -1.12618   -0.280221\n",
       " -0.346053   1.31651    0.0732267\n",
       "  0.742706   0.135561  -0.994282\n",
       " -1.70301   -0.727118   2.31766\n",
       "  0.745916  -1.12055    0.140907"
      ]
     },
     "execution_count": 1,
     "metadata": {},
     "output_type": "execute_result"
    }
   ],
   "source": [
    "x = randn(5, 3)"
   ]
  },
  {
   "cell_type": "code",
   "execution_count": 2,
   "id": "f81bbbc7-e7dd-45be-98ee-10f7244e9a2a",
   "metadata": {},
   "outputs": [
    {
     "data": {
      "text/plain": [
       "(5, 3)"
      ]
     },
     "execution_count": 2,
     "metadata": {},
     "output_type": "execute_result"
    }
   ],
   "source": [
    "size(x)"
   ]
  },
  {
   "cell_type": "code",
   "execution_count": 3,
   "id": "05cb52b3-6992-45a6-9052-4bb817e68bdd",
   "metadata": {},
   "outputs": [
    {
     "data": {
      "text/plain": [
       "5"
      ]
     },
     "execution_count": 3,
     "metadata": {},
     "output_type": "execute_result"
    }
   ],
   "source": [
    "size(x, 1) # nrow() in R"
   ]
  },
  {
   "cell_type": "code",
   "execution_count": 4,
   "id": "e88c1d95-3f13-47e1-a52d-e20ecb7168a4",
   "metadata": {},
   "outputs": [
    {
     "data": {
      "text/plain": [
       "3"
      ]
     },
     "execution_count": 4,
     "metadata": {},
     "output_type": "execute_result"
    }
   ],
   "source": [
    "size(x, 2) # ncol() in R"
   ]
  },
  {
   "cell_type": "code",
   "execution_count": 5,
   "id": "d729a70c-39a0-4bff-8c31-89045ca8df46",
   "metadata": {},
   "outputs": [
    {
     "data": {
      "text/plain": [
       "15"
      ]
     },
     "execution_count": 5,
     "metadata": {},
     "output_type": "execute_result"
    }
   ],
   "source": [
    "# total number of elements\n",
    "length(x)"
   ]
  },
  {
   "cell_type": "markdown",
   "id": "6acdb978-aefb-4eb3-8bcd-35ae7b2a9a40",
   "metadata": {},
   "source": [
    "---\n",
    "\n",
    "### Indexing"
   ]
  },
  {
   "cell_type": "code",
   "execution_count": 6,
   "id": "b12034ae-5cf9-4120-8bd1-6b0331d0aa93",
   "metadata": {},
   "outputs": [
    {
     "data": {
      "text/plain": [
       "5×5 Matrix{Float64}:\n",
       " -0.384079   0.540629   0.003503  -0.0534454   0.382545\n",
       "  1.56377    0.876571   1.01683    1.84941     0.567994\n",
       " -0.687446   0.313884  -0.306218  -1.77579    -0.088558\n",
       "  0.563199  -1.18005   -0.895966   0.217129    0.816159\n",
       "  0.598676  -1.44407    0.318821  -0.211098   -0.322778"
      ]
     },
     "execution_count": 6,
     "metadata": {},
     "output_type": "execute_result"
    }
   ],
   "source": [
    "# 5 × 5 matrix of random Normal(0, 1)\n",
    "x = randn(5, 5)"
   ]
  },
  {
   "cell_type": "code",
   "execution_count": 7,
   "id": "2773965b-e04a-4261-bd61-76c1169b1550",
   "metadata": {},
   "outputs": [
    {
     "data": {
      "text/plain": [
       "5-element Vector{Float64}:\n",
       " -0.3840786272805249\n",
       "  1.563770258704395\n",
       " -0.6874461657292189\n",
       "  0.5631993022368884\n",
       "  0.5986762237099348"
      ]
     },
     "execution_count": 7,
     "metadata": {},
     "output_type": "execute_result"
    }
   ],
   "source": [
    "# first column\n",
    "x[:, 1]"
   ]
  },
  {
   "cell_type": "markdown",
   "id": "52ac5578-559d-4529-a166-3d6340e44aeb",
   "metadata": {},
   "source": [
    "---"
   ]
  },
  {
   "cell_type": "code",
   "execution_count": 8,
   "id": "6b0a6bec-47d1-4fe2-bea1-1cbd7b3ff8da",
   "metadata": {},
   "outputs": [
    {
     "data": {
      "text/plain": [
       "5-element Vector{Float64}:\n",
       " -0.3840786272805249\n",
       "  0.5406293111966782\n",
       "  0.003503004059083037\n",
       " -0.05344542595632667\n",
       "  0.3825449134563247"
      ]
     },
     "execution_count": 8,
     "metadata": {},
     "output_type": "execute_result"
    }
   ],
   "source": [
    "# first row\n",
    "x[1, :]"
   ]
  },
  {
   "cell_type": "code",
   "execution_count": 9,
   "id": "be86c4fb-83da-4912-9bf8-aade6ade3784",
   "metadata": {},
   "outputs": [
    {
     "data": {
      "text/plain": [
       "2×2 Matrix{Float64}:\n",
       " 0.540629  0.003503\n",
       " 0.876571  1.01683"
      ]
     },
     "execution_count": 9,
     "metadata": {},
     "output_type": "execute_result"
    }
   ],
   "source": [
    "# sub-array\n",
    "x[1:2, 2:3]"
   ]
  },
  {
   "cell_type": "markdown",
   "id": "bfe0ca91-1b7f-4bf4-b270-368a58937f82",
   "metadata": {},
   "source": [
    "---"
   ]
  },
  {
   "cell_type": "code",
   "execution_count": 10,
   "id": "24142630-6bf8-4500-bf0b-bb638c35a2db",
   "metadata": {},
   "outputs": [
    {
     "data": {
      "text/plain": [
       "2×2 view(::Matrix{Float64}, 1:2, 2:3) with eltype Float64:\n",
       " 0.540629  0.003503\n",
       " 0.876571  1.01683"
      ]
     },
     "execution_count": 10,
     "metadata": {},
     "output_type": "execute_result"
    }
   ],
   "source": [
    "# getting a subset of a matrix creates a copy, but you can also create \"views\"\n",
    "z = view(x, 1:2, 2:3)"
   ]
  },
  {
   "cell_type": "code",
   "execution_count": 11,
   "id": "b5c0274d-370f-4388-9fbc-03114080d8ae",
   "metadata": {},
   "outputs": [
    {
     "data": {
      "text/plain": [
       "2×2 view(::Matrix{Float64}, 1:2, 2:3) with eltype Float64:\n",
       " 0.540629  0.003503\n",
       " 0.876571  1.01683"
      ]
     },
     "execution_count": 11,
     "metadata": {},
     "output_type": "execute_result"
    }
   ],
   "source": [
    "# same as\n",
    "@views z = x[1:2, 2:3]"
   ]
  },
  {
   "cell_type": "code",
   "execution_count": 12,
   "id": "325e6dd4-6ae0-43ca-9477-29efe652a508",
   "metadata": {},
   "outputs": [
    {
     "data": {
      "text/plain": [
       "5×5 Matrix{Float64}:\n",
       " -0.384079   0.540629   0.003503  -0.0534454   0.382545\n",
       "  1.56377    0.876571   0.0        1.84941     0.567994\n",
       " -0.687446   0.313884  -0.306218  -1.77579    -0.088558\n",
       "  0.563199  -1.18005   -0.895966   0.217129    0.816159\n",
       "  0.598676  -1.44407    0.318821  -0.211098   -0.322778"
      ]
     },
     "execution_count": 12,
     "metadata": {},
     "output_type": "execute_result"
    }
   ],
   "source": [
    "# change in z (view) changes x as well\n",
    "z[2, 2] = 0.0\n",
    "x"
   ]
  },
  {
   "cell_type": "markdown",
   "id": "90ca4aee-00d0-41c0-b714-16587a8eadb7",
   "metadata": {},
   "source": [
    "---"
   ]
  },
  {
   "cell_type": "code",
   "execution_count": 13,
   "id": "0f4cca58-3cee-42cb-9b10-ee1fd9f8ceba",
   "metadata": {},
   "outputs": [
    {
     "data": {
      "text/plain": [
       "5×5 Matrix{Float64}:\n",
       " -0.384079   0.540629   0.003503  -0.0534454   0.382545\n",
       "  1.56377    0.876571   0.0        1.84941     0.567994\n",
       " -0.687446   0.313884  -0.306218  -1.77579    -0.088558\n",
       "  0.563199  -1.18005   -0.895966   0.217129    0.816159\n",
       "  0.598676  -1.44407    0.318821  -0.211098   -0.322778"
      ]
     },
     "execution_count": 13,
     "metadata": {},
     "output_type": "execute_result"
    }
   ],
   "source": [
    "# y points to same data as x\n",
    "y = x"
   ]
  },
  {
   "cell_type": "code",
   "execution_count": 14,
   "id": "9fe94aba-2afb-4861-8cde-0b8cc88e2278",
   "metadata": {},
   "outputs": [
    {
     "data": {
      "text/plain": [
       "(Ptr{Float64} @0x000000010df5b890, Ptr{Float64} @0x000000010df5b890)"
      ]
     },
     "execution_count": 14,
     "metadata": {},
     "output_type": "execute_result"
    }
   ],
   "source": [
    "# x and y point to same data\n",
    "pointer(x), pointer(y)"
   ]
  },
  {
   "cell_type": "code",
   "execution_count": 15,
   "id": "43b8b7bd-2eff-4c3b-a71a-019935a7a596",
   "metadata": {},
   "outputs": [
    {
     "data": {
      "text/plain": [
       "5×5 Matrix{Float64}:\n",
       " 0.0   0.540629   0.003503  -0.0534454   0.382545\n",
       " 0.0   0.876571   0.0        1.84941     0.567994\n",
       " 0.0   0.313884  -0.306218  -1.77579    -0.088558\n",
       " 0.0  -1.18005   -0.895966   0.217129    0.816159\n",
       " 0.0  -1.44407    0.318821  -0.211098   -0.322778"
      ]
     },
     "execution_count": 15,
     "metadata": {},
     "output_type": "execute_result"
    }
   ],
   "source": [
    "# changing y also changes x\n",
    "y[:, 1] .= 0  # Dot broadcasting: \"vectorization\" in Julia. More below\n",
    "x"
   ]
  },
  {
   "cell_type": "markdown",
   "id": "fd0b9059-7d0c-4555-9ad1-e5b840da76d7",
   "metadata": {},
   "source": [
    "---"
   ]
  },
  {
   "cell_type": "code",
   "execution_count": 16,
   "id": "cd1198a0-b628-4d75-b91f-fb6c5ad9d5db",
   "metadata": {},
   "outputs": [
    {
     "data": {
      "text/plain": [
       "5×5 Matrix{Float64}:\n",
       " 0.0   0.540629   0.003503  -0.0534454   0.382545\n",
       " 0.0   0.876571   0.0        1.84941     0.567994\n",
       " 0.0   0.313884  -0.306218  -1.77579    -0.088558\n",
       " 0.0  -1.18005   -0.895966   0.217129    0.816159\n",
       " 0.0  -1.44407    0.318821  -0.211098   -0.322778"
      ]
     },
     "execution_count": 16,
     "metadata": {},
     "output_type": "execute_result"
    }
   ],
   "source": [
    "# create a new copy of data\n",
    "z = copy(x)"
   ]
  },
  {
   "cell_type": "code",
   "execution_count": 17,
   "id": "7ef0a885-e1fc-42e9-bc4e-9a2184908099",
   "metadata": {},
   "outputs": [
    {
     "data": {
      "text/plain": [
       "(Ptr{Float64} @0x000000010df5b890, Ptr{Float64} @0x000000010dee4ef0)"
      ]
     },
     "execution_count": 17,
     "metadata": {},
     "output_type": "execute_result"
    }
   ],
   "source": [
    "pointer(x), pointer(z)  # they should be different now"
   ]
  },
  {
   "cell_type": "markdown",
   "id": "972ad786-5a48-42a3-b809-2c05874489dd",
   "metadata": {},
   "source": [
    "---\n",
    "\n",
    "### Concatenate matrices"
   ]
  },
  {
   "cell_type": "code",
   "execution_count": 26,
   "id": "a98ad914-7850-4f70-9053-f0955e2141a9",
   "metadata": {},
   "outputs": [
    {
     "data": {
      "text/plain": [
       "1×3 Matrix{Int64}:\n",
       " 1  2  3"
      ]
     },
     "execution_count": 26,
     "metadata": {},
     "output_type": "execute_result"
    }
   ],
   "source": [
    "# 1-by-3 array\n",
    "[1 2 3]"
   ]
  },
  {
   "cell_type": "code",
   "execution_count": 27,
   "id": "eb882b38-a82d-4b55-b77c-e971205e86d1",
   "metadata": {},
   "outputs": [
    {
     "data": {
      "text/plain": [
       "3-element Vector{Int64}:\n",
       " 1\n",
       " 2\n",
       " 3"
      ]
     },
     "execution_count": 27,
     "metadata": {},
     "output_type": "execute_result"
    }
   ],
   "source": [
    "# 3-by-1 vector\n",
    "[1, 2, 3]"
   ]
  },
  {
   "cell_type": "markdown",
   "id": "372cd992-7c21-434c-9dc0-55f6e5717a01",
   "metadata": {},
   "source": [
    "---"
   ]
  },
  {
   "cell_type": "code",
   "execution_count": 28,
   "id": "06c40f00-c095-47c5-ae32-9108730cece9",
   "metadata": {},
   "outputs": [
    {
     "data": {
      "text/plain": [
       "([0.5893655425511126 0.6478463785075559 0.03675617824627964; 0.32449020240765014 -1.3163416879826713 0.7448429375816905; … ; 1.194345878009456 -0.9709295240318928 0.27695790432451756; -0.22659842128747293 0.1532435439941793 -0.2784639103102133], [1.2488575126330914 -0.8703644138107955; 0.12338420649841966 1.651334800014632; … ; 0.8705337197294406 0.6799072095463546; -1.6574340081943586 -0.3700243675300325], [0.03348929176386288 0.12239273748998791 … -1.6728049527623698 0.5027256700275959; -0.3717281295214447 -0.5438233836426857 … -0.7034641699877021 1.3487199200482247; 0.049027792124969646 0.23817850370798085 … -0.5161662385770864 -0.08535374403107002])"
      ]
     },
     "execution_count": 28,
     "metadata": {},
     "output_type": "execute_result"
    }
   ],
   "source": [
    "# multiple assignment by tuple\n",
    "x, y, z = randn(5, 3), randn(5, 2), randn(3, 5)"
   ]
  },
  {
   "cell_type": "code",
   "execution_count": 29,
   "id": "d44e6eb9-fcd7-4c31-8c01-47083a3859ec",
   "metadata": {},
   "outputs": [
    {
     "data": {
      "text/plain": [
       "5×5 Matrix{Float64}:\n",
       "  0.589366   0.647846   0.0367562   1.24886   -0.870364\n",
       "  0.32449   -1.31634    0.744843    0.123384   1.65133\n",
       " -1.50004   -0.471809  -0.557907    0.278123   1.56953\n",
       "  1.19435   -0.97093    0.276958    0.870534   0.679907\n",
       " -0.226598   0.153244  -0.278464   -1.65743   -0.370024"
      ]
     },
     "execution_count": 29,
     "metadata": {},
     "output_type": "execute_result"
    }
   ],
   "source": [
    "[x y] # 5-by-5 matrix"
   ]
  },
  {
   "cell_type": "markdown",
   "id": "b99ba1f8-38e5-436e-a6c4-a5344606eb51",
   "metadata": {},
   "source": [
    "---"
   ]
  },
  {
   "cell_type": "code",
   "execution_count": 30,
   "id": "3a075e58-e025-415a-8d16-6a119df760b5",
   "metadata": {},
   "outputs": [
    {
     "data": {
      "text/plain": [
       "8×5 Matrix{Float64}:\n",
       "  0.589366    0.647846   0.0367562   1.24886   -0.870364\n",
       "  0.32449    -1.31634    0.744843    0.123384   1.65133\n",
       " -1.50004    -0.471809  -0.557907    0.278123   1.56953\n",
       "  1.19435    -0.97093    0.276958    0.870534   0.679907\n",
       " -0.226598    0.153244  -0.278464   -1.65743   -0.370024\n",
       "  0.0334893   0.122393   1.5489     -1.6728     0.502726\n",
       " -0.371728   -0.543823  -0.71427    -0.703464   1.34872\n",
       "  0.0490278   0.238179   0.122957   -0.516166  -0.0853537"
      ]
     },
     "execution_count": 30,
     "metadata": {},
     "output_type": "execute_result"
    }
   ],
   "source": [
    "[x y; z] # 8-by-5 matrix"
   ]
  },
  {
   "cell_type": "markdown",
   "id": "e2ab4370-346c-4bb5-9c5b-3189e9e992bf",
   "metadata": {},
   "source": [
    "---\n",
    "\n",
    "### Dot operation\n",
    "\n",
    "In Julia, any function `f(x)` can be applied elementwise to an array `X` with the “dot call” syntax `f.(X)`. "
   ]
  },
  {
   "cell_type": "code",
   "execution_count": 31,
   "id": "44b6884c-7ce6-4f7c-8800-eeefe19dbf15",
   "metadata": {},
   "outputs": [
    {
     "data": {
      "text/plain": [
       "5×3 Matrix{Float64}:\n",
       "  0.311722  -0.602978   -1.41185\n",
       " -2.95531    1.06727     2.73063\n",
       " -1.4536    -1.68355    -0.195356\n",
       "  0.728974   0.0607037  -1.21232\n",
       " -1.16299   -0.388626    1.52238"
      ]
     },
     "execution_count": 31,
     "metadata": {},
     "output_type": "execute_result"
    }
   ],
   "source": [
    "x = randn(5, 3)"
   ]
  },
  {
   "cell_type": "code",
   "execution_count": 32,
   "id": "4d008bc7-6c08-4c91-bdb7-6054e9d5f092",
   "metadata": {},
   "outputs": [
    {
     "data": {
      "text/plain": [
       "5×3 Matrix{Float64}:\n",
       " 1.0  1.0  1.0\n",
       " 1.0  1.0  1.0\n",
       " 1.0  1.0  1.0\n",
       " 1.0  1.0  1.0\n",
       " 1.0  1.0  1.0"
      ]
     },
     "execution_count": 32,
     "metadata": {},
     "output_type": "execute_result"
    }
   ],
   "source": [
    "y = ones(5, 3)"
   ]
  },
  {
   "cell_type": "markdown",
   "id": "5ada3a75-9a8b-4c60-825c-f6a86a1fed10",
   "metadata": {},
   "source": [
    "---"
   ]
  },
  {
   "cell_type": "code",
   "execution_count": 33,
   "id": "4c2f9dc9-4605-4a93-a972-d4e762c868ec",
   "metadata": {},
   "outputs": [
    {
     "data": {
      "text/plain": [
       "5×3 Matrix{Float64}:\n",
       "  0.311722  -0.602978   -1.41185\n",
       " -2.95531    1.06727     2.73063\n",
       " -1.4536    -1.68355    -0.195356\n",
       "  0.728974   0.0607037  -1.21232\n",
       " -1.16299   -0.388626    1.52238"
      ]
     },
     "execution_count": 33,
     "metadata": {},
     "output_type": "execute_result"
    }
   ],
   "source": [
    "x .* y # same as x * y in R"
   ]
  },
  {
   "cell_type": "code",
   "execution_count": 34,
   "id": "056b2ee6-751d-44f5-83d5-fd19d662093f",
   "metadata": {},
   "outputs": [
    {
     "data": {
      "text/plain": [
       "5×3 Matrix{Float64}:\n",
       " 10.2912      2.7504     0.501673\n",
       "  0.114497    0.877916   0.134114\n",
       "  0.473274    0.352816  26.2028\n",
       "  1.88181   271.375      0.680402\n",
       "  0.739343    6.6212     0.431474"
      ]
     },
     "execution_count": 34,
     "metadata": {},
     "output_type": "execute_result"
    }
   ],
   "source": [
    "x .^ (-2) # same as x^(-2) in R"
   ]
  },
  {
   "cell_type": "code",
   "execution_count": 35,
   "id": "336abf51-4e58-46de-a31e-3e0a1e5e0757",
   "metadata": {},
   "outputs": [
    {
     "data": {
      "text/plain": [
       "5×3 Matrix{Float64}:\n",
       "  0.306698  -0.567098   -0.987395\n",
       " -0.185207   0.875885    0.399488\n",
       " -0.99314   -0.99365    -0.194116\n",
       "  0.666105   0.0606664  -0.936433\n",
       " -0.917994  -0.378917    0.998828"
      ]
     },
     "execution_count": 35,
     "metadata": {},
     "output_type": "execute_result"
    }
   ],
   "source": [
    "sin.(x)  # same as sin(x) in R"
   ]
  },
  {
   "cell_type": "markdown",
   "id": "a7666a79-2992-4bb1-8aa7-8db043e5c08f",
   "metadata": {},
   "source": [
    "---\n",
    "\n",
    "### Basic linear algebra"
   ]
  },
  {
   "cell_type": "code",
   "execution_count": 36,
   "id": "96889a14-b949-4cb9-8e9e-9ab4946076e4",
   "metadata": {},
   "outputs": [
    {
     "data": {
      "text/plain": [
       "5-element Vector{Float64}:\n",
       " 0.34146810589642673\n",
       " 1.4981812185148902\n",
       " 0.25078117390294813\n",
       " 0.8568548966734539\n",
       " 0.2612026843555233"
      ]
     },
     "execution_count": 36,
     "metadata": {},
     "output_type": "execute_result"
    }
   ],
   "source": [
    "x = randn(5)"
   ]
  },
  {
   "cell_type": "code",
   "execution_count": 37,
   "id": "4b6d6a00-75f7-4f65-977c-c19782647648",
   "metadata": {},
   "outputs": [
    {
     "data": {
      "text/plain": [
       "1.7962365613435223"
      ]
     },
     "execution_count": 37,
     "metadata": {},
     "output_type": "execute_result"
    }
   ],
   "source": [
    "using LinearAlgebra\n",
    "norm(x) # vector L2 norm"
   ]
  },
  {
   "cell_type": "code",
   "execution_count": 38,
   "id": "5b4c9f3e-4381-477f-ae5e-0c95c502bffd",
   "metadata": {},
   "outputs": [
    {
     "data": {
      "text/plain": [
       "1.7962365613435223"
      ]
     },
     "execution_count": 38,
     "metadata": {},
     "output_type": "execute_result"
    }
   ],
   "source": [
    "# same as\n",
    "sqrt(sum(abs2, x))"
   ]
  },
  {
   "cell_type": "code",
   "execution_count": 39,
   "id": "7497c734-11f3-42c7-8898-7aac3d77ab12",
   "metadata": {},
   "outputs": [
    {
     "data": {
      "text/plain": [
       "-0.24788199560261587"
      ]
     },
     "execution_count": 39,
     "metadata": {},
     "output_type": "execute_result"
    }
   ],
   "source": [
    "y = randn(5) # another vector\n",
    "# dot product\n",
    "dot(x, y) # x' * y"
   ]
  },
  {
   "cell_type": "code",
   "execution_count": 40,
   "id": "40c657f6-4354-46f8-8852-c74d1305c3a0",
   "metadata": {},
   "outputs": [
    {
     "data": {
      "text/plain": [
       "-0.24788199560261587"
      ]
     },
     "execution_count": 40,
     "metadata": {},
     "output_type": "execute_result"
    }
   ],
   "source": [
    "# same as\n",
    "x'y"
   ]
  },
  {
   "cell_type": "markdown",
   "id": "d12be6b9-80b2-4d27-9316-cbbc444194e0",
   "metadata": {},
   "source": [
    "---"
   ]
  },
  {
   "cell_type": "code",
   "execution_count": 41,
   "id": "8676d9ec-d231-4689-b0ab-c21f04f43d53",
   "metadata": {},
   "outputs": [
    {
     "data": {
      "text/plain": [
       "5×2 Matrix{Float64}:\n",
       "  1.22666    -3.08629\n",
       "  0.0207958  -1.48039\n",
       "  1.37031     0.290835\n",
       " -2.12267    -0.710753\n",
       " -1.52756    -1.22875"
      ]
     },
     "execution_count": 41,
     "metadata": {},
     "output_type": "execute_result"
    }
   ],
   "source": [
    "x, y = randn(5, 3), randn(3, 2)\n",
    "# matrix multiplication, same as %*% in R\n",
    "x * y"
   ]
  },
  {
   "cell_type": "code",
   "execution_count": 42,
   "id": "858fb78b-1047-47e5-9932-4fe0ff8ecb29",
   "metadata": {},
   "outputs": [
    {
     "data": {
      "text/plain": [
       "3×3 Matrix{Float64}:\n",
       " -0.821948  -0.417438   0.164008\n",
       " -0.117837   1.70361    0.804793\n",
       "  0.214691  -0.0478425  0.750179"
      ]
     },
     "execution_count": 42,
     "metadata": {},
     "output_type": "execute_result"
    }
   ],
   "source": [
    "x = randn(3, 3)"
   ]
  },
  {
   "cell_type": "code",
   "execution_count": 43,
   "id": "46410617-e736-4190-89df-9194c172b151",
   "metadata": {},
   "outputs": [
    {
     "data": {
      "text/plain": [
       "3×3 adjoint(::Matrix{Float64}) with eltype Float64:\n",
       " -0.821948  -0.117837   0.214691\n",
       " -0.417438   1.70361   -0.0478425\n",
       "  0.164008   0.804793   0.750179"
      ]
     },
     "execution_count": 43,
     "metadata": {},
     "output_type": "execute_result"
    }
   ],
   "source": [
    "# conjugate transpose\n",
    "x'"
   ]
  },
  {
   "cell_type": "code",
   "execution_count": 44,
   "id": "7e2099d4-2518-4fa1-b4db-d8c92ec2fda2",
   "metadata": {},
   "outputs": [
    {
     "data": {
      "text/plain": [
       "3-element Vector{Float64}:\n",
       " -0.35187236916572584\n",
       "  0.9070636015135449\n",
       "  1.1667751942065532"
      ]
     },
     "execution_count": 44,
     "metadata": {},
     "output_type": "execute_result"
    }
   ],
   "source": [
    "b = rand(3)\n",
    "x'b # same as x' * b"
   ]
  },
  {
   "cell_type": "markdown",
   "id": "f17d1088-9f77-4bb0-b1b2-51740ee54251",
   "metadata": {},
   "source": [
    "---"
   ]
  },
  {
   "cell_type": "code",
   "execution_count": 45,
   "id": "c73d9334-46a7-483b-8537-094e0e0d6fba",
   "metadata": {},
   "outputs": [
    {
     "data": {
      "text/plain": [
       "1.631839797585085"
      ]
     },
     "execution_count": 45,
     "metadata": {},
     "output_type": "execute_result"
    }
   ],
   "source": [
    "# trace\n",
    "tr(x)"
   ]
  },
  {
   "cell_type": "code",
   "execution_count": 46,
   "id": "c2851fd6-2c9e-4e39-b938-ee0ddf92e694",
   "metadata": {},
   "outputs": [
    {
     "data": {
      "text/plain": [
       "-1.2501936512996823"
      ]
     },
     "execution_count": 46,
     "metadata": {},
     "output_type": "execute_result"
    }
   ],
   "source": [
    "det(x)"
   ]
  },
  {
   "cell_type": "code",
   "execution_count": 47,
   "id": "40b9e525-8505-46f3-ac84-05b2fe5d5045",
   "metadata": {},
   "outputs": [
    {
     "data": {
      "text/plain": [
       "3"
      ]
     },
     "execution_count": 47,
     "metadata": {},
     "output_type": "execute_result"
    }
   ],
   "source": [
    "rank(x)"
   ]
  },
  {
   "cell_type": "markdown",
   "id": "c75c4f31-3fdf-4875-8a69-4ef5988a8f4c",
   "metadata": {},
   "source": [
    "---\n",
    "\n",
    "### Sparse matrices"
   ]
  },
  {
   "cell_type": "code",
   "execution_count": 48,
   "id": "25579a25-7cee-46d6-9cfa-71b07fa8ec58",
   "metadata": {},
   "outputs": [
    {
     "data": {
      "text/plain": [
       "10×10 SparseMatrixCSC{Float64, Int64} with 3 stored entries:\n",
       "  ⋅    ⋅     ⋅        ⋅    ⋅    ⋅    ⋅    ⋅     ⋅        ⋅ \n",
       "  ⋅    ⋅   -2.05379   ⋅    ⋅    ⋅    ⋅    ⋅     ⋅        ⋅ \n",
       "  ⋅    ⋅     ⋅        ⋅    ⋅    ⋅    ⋅    ⋅     ⋅        ⋅ \n",
       "  ⋅    ⋅     ⋅        ⋅    ⋅    ⋅    ⋅    ⋅     ⋅        ⋅ \n",
       "  ⋅    ⋅     ⋅        ⋅    ⋅    ⋅    ⋅    ⋅     ⋅        ⋅ \n",
       "  ⋅    ⋅     ⋅        ⋅    ⋅    ⋅    ⋅    ⋅     ⋅        ⋅ \n",
       "  ⋅    ⋅     ⋅        ⋅    ⋅    ⋅    ⋅    ⋅     ⋅        ⋅ \n",
       "  ⋅    ⋅     ⋅        ⋅    ⋅    ⋅    ⋅    ⋅     ⋅        ⋅ \n",
       "  ⋅    ⋅     ⋅        ⋅    ⋅    ⋅    ⋅    ⋅   -1.12422  0.495726\n",
       "  ⋅    ⋅     ⋅        ⋅    ⋅    ⋅    ⋅    ⋅     ⋅        ⋅ "
      ]
     },
     "execution_count": 48,
     "metadata": {},
     "output_type": "execute_result"
    }
   ],
   "source": [
    "using SparseArrays\n",
    "\n",
    "# 10-by-10 sparse matrix with sparsity 0.1\n",
    "X = sprandn(10, 10, .1)"
   ]
  },
  {
   "cell_type": "markdown",
   "id": "8088c037-b7df-41c5-b227-34b91f9c91ce",
   "metadata": {},
   "source": [
    "---"
   ]
  },
  {
   "cell_type": "code",
   "execution_count": 49,
   "id": "be2874c9-ad77-4b58-9e2d-69698382fad3",
   "metadata": {},
   "outputs": [
    {
     "data": {
      "text/plain": [
       "10×10 Matrix{Float64}:\n",
       " 0.0  0.0   0.0      0.0  0.0  0.0  0.0  0.0   0.0      0.0\n",
       " 0.0  0.0  -2.05379  0.0  0.0  0.0  0.0  0.0   0.0      0.0\n",
       " 0.0  0.0   0.0      0.0  0.0  0.0  0.0  0.0   0.0      0.0\n",
       " 0.0  0.0   0.0      0.0  0.0  0.0  0.0  0.0   0.0      0.0\n",
       " 0.0  0.0   0.0      0.0  0.0  0.0  0.0  0.0   0.0      0.0\n",
       " 0.0  0.0   0.0      0.0  0.0  0.0  0.0  0.0   0.0      0.0\n",
       " 0.0  0.0   0.0      0.0  0.0  0.0  0.0  0.0   0.0      0.0\n",
       " 0.0  0.0   0.0      0.0  0.0  0.0  0.0  0.0   0.0      0.0\n",
       " 0.0  0.0   0.0      0.0  0.0  0.0  0.0  0.0  -1.12422  0.495726\n",
       " 0.0  0.0   0.0      0.0  0.0  0.0  0.0  0.0   0.0      0.0"
      ]
     },
     "execution_count": 49,
     "metadata": {},
     "output_type": "execute_result"
    }
   ],
   "source": [
    "# convert to dense matrix; be cautious when dealing with big data\n",
    "Xfull = convert(Matrix{Float64}, X)"
   ]
  },
  {
   "cell_type": "code",
   "execution_count": 50,
   "id": "6fc69c4d-a695-4cc4-89a7-6f55cee17a6e",
   "metadata": {},
   "outputs": [
    {
     "data": {
      "text/plain": [
       "10×10 SparseMatrixCSC{Float64, Int64} with 3 stored entries:\n",
       "  ⋅    ⋅     ⋅        ⋅    ⋅    ⋅    ⋅    ⋅     ⋅        ⋅ \n",
       "  ⋅    ⋅   -2.05379   ⋅    ⋅    ⋅    ⋅    ⋅     ⋅        ⋅ \n",
       "  ⋅    ⋅     ⋅        ⋅    ⋅    ⋅    ⋅    ⋅     ⋅        ⋅ \n",
       "  ⋅    ⋅     ⋅        ⋅    ⋅    ⋅    ⋅    ⋅     ⋅        ⋅ \n",
       "  ⋅    ⋅     ⋅        ⋅    ⋅    ⋅    ⋅    ⋅     ⋅        ⋅ \n",
       "  ⋅    ⋅     ⋅        ⋅    ⋅    ⋅    ⋅    ⋅     ⋅        ⋅ \n",
       "  ⋅    ⋅     ⋅        ⋅    ⋅    ⋅    ⋅    ⋅     ⋅        ⋅ \n",
       "  ⋅    ⋅     ⋅        ⋅    ⋅    ⋅    ⋅    ⋅     ⋅        ⋅ \n",
       "  ⋅    ⋅     ⋅        ⋅    ⋅    ⋅    ⋅    ⋅   -1.12422  0.495726\n",
       "  ⋅    ⋅     ⋅        ⋅    ⋅    ⋅    ⋅    ⋅     ⋅        ⋅ "
      ]
     },
     "execution_count": 50,
     "metadata": {},
     "output_type": "execute_result"
    }
   ],
   "source": [
    "# convert a dense matrix to sparse matrix\n",
    "sparse(Xfull)"
   ]
  },
  {
   "cell_type": "markdown",
   "id": "f6831662-cda5-4738-ab52-970438335a41",
   "metadata": {},
   "source": [
    "---"
   ]
  },
  {
   "cell_type": "code",
   "execution_count": 51,
   "id": "88e1e0e1-5abe-41ff-ac5f-9284c138b208",
   "metadata": {},
   "outputs": [
    {
     "data": {
      "text/plain": [
       "10-element Vector{Float64}:\n",
       "  0.0\n",
       " -2.0537854136532983\n",
       "  0.0\n",
       "  0.0\n",
       "  0.0\n",
       "  0.0\n",
       "  0.0\n",
       "  0.0\n",
       " -0.6284968672903815\n",
       "  0.0"
      ]
     },
     "execution_count": 51,
     "metadata": {},
     "output_type": "execute_result"
    }
   ],
   "source": [
    "# syntax for sparse linear algebra is the same as dense linear algebra\n",
    "β = ones(10)\n",
    "X * β"
   ]
  },
  {
   "cell_type": "code",
   "execution_count": 52,
   "id": "99b0264d-dee6-4114-882c-7ac5fb7358a9",
   "metadata": {},
   "outputs": [
    {
     "data": {
      "text/plain": [
       "-2.6822822809436797"
      ]
     },
     "execution_count": 52,
     "metadata": {},
     "output_type": "execute_result"
    }
   ],
   "source": [
    "# many functions apply to sparse matrices as well\n",
    "sum(X)"
   ]
  },
  {
   "cell_type": "markdown",
   "id": "a59cb439-3254-4de2-bd06-2ec3f269f379",
   "metadata": {},
   "source": [
    "## Control flow and loops\n",
    "\n",
    "* if-elseif-else-end\n",
    "\n",
    "```julia\n",
    "if condition1\n",
    "    # do something\n",
    "elseif condition2\n",
    "    # do something\n",
    "else\n",
    "    # do something\n",
    "end\n",
    "```\n",
    "\n",
    "* `for` loop\n",
    "\n",
    "```julia\n",
    "for i in 1:10\n",
    "    println(i)\n",
    "end\n",
    "```\n",
    "\n",
    "---\n",
    "\n",
    "* Nested `for` loop:\n",
    "\n",
    "```julia\n",
    "for i in 1:10\n",
    "    for j in 1:5\n",
    "        println(i * j)\n",
    "    end\n",
    "end\n",
    "```\n",
    "Same as\n",
    "\n",
    "```julia\n",
    "for i in 1:10, j in 1:5\n",
    "    println(i * j)\n",
    "end\n",
    "```\n",
    "\n",
    "* Exit loop:\n",
    "\n",
    "```julia\n",
    "for i in 1:10\n",
    "    # do something\n",
    "    if condition1\n",
    "        break # skip remaining loop\n",
    "    end\n",
    "end\n",
    "```\n",
    "\n",
    "---\n",
    "\n",
    "* Exit iteration:  \n",
    "\n",
    "```julia\n",
    "for i in 1:10\n",
    "    # do something\n",
    "    if condition1\n",
    "        continue # skip to next iteration\n",
    "    end\n",
    "    # do something\n",
    "end\n",
    "```"
   ]
  },
  {
   "cell_type": "markdown",
   "id": "688cb6e7-afc6-46d2-b29b-56d4773ad7f8",
   "metadata": {},
   "source": [
    "## Functions \n",
    "\n",
    "* Function definition\n",
    "```julia\n",
    "function func(req1, req2; key1=dflt1, key2=dflt2)\n",
    "    # do stuff\n",
    "    return out1, out2, out3\n",
    "end\n",
    "```\n",
    "- **Required arguments** are separated with a comma and use the positional notation.  \n",
    "- **Optional arguments** need a default value in the signature.  \n",
    "- **return** statement is optional (value of the last expression is the return value, like R).  \n",
    "- Multiple outputs can be returned as a **tuple**, e.g., `return out1, out2, out3`.  \n",
    "\n",
    "---\n",
    "\n",
    "* In Julia, all arguments to functions are [**passed by reference**](https://en.wikipedia.org/wiki/Evaluation_strategy#Call_by_reference), in contrast to R and Matlab (which use pass by value).\n",
    "    - Implication: function arguments can be **modified** inside the function.\n",
    "\n",
    "* By convention function names ending with `!` indicates that function mutates at least one argument, typically the first.\n",
    "```julia\n",
    "sort!(x) # vs sort(x)\n",
    "```"
   ]
  },
  {
   "cell_type": "markdown",
   "id": "4f903337-6b61-4a07-9a52-b933a5eda270",
   "metadata": {},
   "source": [
    "* Anonymous functions, e.g., `x -> x^2`, is commonly used in collection function or list comprehensions.\n",
    "```julia\n",
    "map(x -> x^2, y) # square each element in x\n",
    "```\n",
    "\n",
    "---\n",
    "\n",
    "* Functions can be nested:\n",
    "\n",
    "```julia\n",
    "function outerfunction()\n",
    "    # do some outer stuff\n",
    "    function innerfunction()\n",
    "        # do inner stuff\n",
    "        # can access prior outer definitions\n",
    "    end\n",
    "    # do more outer stuff\n",
    "end\n",
    "```\n",
    "\n",
    "* Functions can be vectorized using the \"dot call\" syntax:"
   ]
  },
  {
   "cell_type": "code",
   "execution_count": 53,
   "id": "7cf8d686-127f-46e7-a30f-0c6aa6f565df",
   "metadata": {},
   "outputs": [
    {
     "data": {
      "text/plain": [
       "5×3 Matrix{Float64}:\n",
       "  0.253517   0.979067     0.0117348\n",
       "  0.118159   0.00956257   0.0499083\n",
       " -0.98609   -0.195548     0.284757\n",
       "  0.789984   0.000642589  0.988788\n",
       "  0.546603   0.0826408    0.357081"
      ]
     },
     "execution_count": 53,
     "metadata": {},
     "output_type": "execute_result"
    }
   ],
   "source": [
    "function myfunc(x)\n",
    "    return sin(x^2)\n",
    "end\n",
    "\n",
    "x = randn(5, 3)\n",
    "myfunc.(x)"
   ]
  },
  {
   "cell_type": "markdown",
   "id": "855c5cc7-cfd4-4dea-b638-2281494f50dc",
   "metadata": {},
   "source": [
    "---\n",
    "\n",
    "### Collection function\n",
    "\n",
    "Like a series of `apply` functions in R.\n",
    "\n",
    "Apply a function to each element of a collection:\n",
    "\n",
    "```julia\n",
    "map(f, coll) # or\n",
    "map(coll) do elem\n",
    "    # do stuff with elem\n",
    "    # must contain return\n",
    "end\n",
    "```\n",
    "\n",
    "Alternative \"vectorization\":"
   ]
  },
  {
   "cell_type": "code",
   "execution_count": 54,
   "id": "7ba8ae71-19dd-41e3-95e5-9efc066d7ada",
   "metadata": {},
   "outputs": [
    {
     "data": {
      "text/plain": [
       "5×3 Matrix{Float64}:\n",
       "  0.253517   0.979067     0.0117348\n",
       "  0.118159   0.00956257   0.0499083\n",
       " -0.98609   -0.195548     0.284757\n",
       "  0.789984   0.000642589  0.988788\n",
       "  0.546603   0.0826408    0.357081"
      ]
     },
     "execution_count": 54,
     "metadata": {},
     "output_type": "execute_result"
    }
   ],
   "source": [
    "map(x -> sin(x^2), x)   # same as above"
   ]
  },
  {
   "cell_type": "markdown",
   "id": "5c93970c-3459-4e70-8bff-57f3561d60b8",
   "metadata": {},
   "source": [
    "---"
   ]
  },
  {
   "cell_type": "code",
   "execution_count": 55,
   "id": "35bcdfc8-9f6d-4445-aa60-256f66382167",
   "metadata": {},
   "outputs": [
    {
     "data": {
      "text/plain": [
       "5×3 Matrix{Float64}:\n",
       "  0.253517   0.979067     0.0117348\n",
       "  0.118159   0.00956257   0.0499083\n",
       " -0.98609   -0.195548     0.284757\n",
       "  0.789984   0.000642589  0.988788\n",
       "  0.546603   0.0826408    0.357081"
      ]
     },
     "execution_count": 55,
     "metadata": {},
     "output_type": "execute_result"
    }
   ],
   "source": [
    "map(x) do elem   # long version of above\n",
    "    elem = elem^2\n",
    "    return sin(elem)\n",
    "end"
   ]
  },
  {
   "cell_type": "code",
   "execution_count": 56,
   "id": "923e471c-977c-4e98-b5bc-34e700fca61d",
   "metadata": {},
   "outputs": [
    {
     "data": {
      "text/plain": [
       "3.2908069925088776"
      ]
     },
     "execution_count": 56,
     "metadata": {},
     "output_type": "execute_result"
    }
   ],
   "source": [
    "# Mapreduce\n",
    "mapreduce(x -> sin(x^2), +, x)   # mapreduce(mapper, reducer, data)"
   ]
  },
  {
   "cell_type": "code",
   "execution_count": 57,
   "id": "ddbb758c-bbb6-4bf4-8dac-eea115e73c9c",
   "metadata": {},
   "outputs": [
    {
     "data": {
      "text/plain": [
       "3.2908069925088776"
      ]
     },
     "execution_count": 57,
     "metadata": {},
     "output_type": "execute_result"
    }
   ],
   "source": [
    "# same as\n",
    "sum(x -> sin(x^2), x)"
   ]
  },
  {
   "cell_type": "markdown",
   "id": "12de126d-7344-41d8-92d3-ecf0756fe702",
   "metadata": {},
   "source": [
    "---\n",
    "\n",
    "### List comprehension"
   ]
  },
  {
   "cell_type": "code",
   "execution_count": 58,
   "id": "be7af7b0-7fd1-4548-8f38-5c78491a699c",
   "metadata": {},
   "outputs": [
    {
     "data": {
      "text/plain": [
       "5×3 Matrix{Float64}:\n",
       "  0.14112   -0.756802  -0.958924\n",
       " -0.958924  -0.279415   0.656987\n",
       "  0.656987   0.989358   0.412118\n",
       "  0.412118  -0.544021  -0.99999\n",
       " -0.99999   -0.536573   0.420167"
      ]
     },
     "execution_count": 58,
     "metadata": {},
     "output_type": "execute_result"
    }
   ],
   "source": [
    "[sin(2i + j) for i in 1:5, j in 1:3] # similar to Python"
   ]
  }
 ],
 "metadata": {
  "kernelspec": {
   "display_name": "Julia 1.9.3",
   "language": "julia",
   "name": "julia-1.9"
  },
  "language_info": {
   "file_extension": ".jl",
   "mimetype": "application/julia",
   "name": "julia",
   "version": "1.9.3"
  }
 },
 "nbformat": 4,
 "nbformat_minor": 5
}

{
 "cells": [
  {
   "cell_type": "raw",
   "metadata": {
    "slideshow": {
     "slide_type": "slide"
    },
    "tags": []
   },
   "source": [
    "---\n",
    "title: \"Introduction\"\n",
    "subtitle: Advanced Statistical Computing\n",
    "author: Joong-Ho Won\n",
    "date: Fall 2023\n",
    "institute: Seoul National University\n",
    "execute:\n",
    "  echo: true\n",
    "format:\n",
    "  revealjs:\n",
    "    toc: false\n",
    "    theme: dark\n",
    "    code-fold: false    \n",
    "jupyter: julia    \n",
    "---"
   ]
  },
  {
   "cell_type": "markdown",
   "metadata": {
    "slideshow": {
     "slide_type": "slide"
    },
    "tags": []
   },
   "source": [
    "## Course Overview\n",
    "\n",
    "* Tue/Thu 11:00am-12:15pm @ 25-210\n",
    "* Instructor: Joong-Ho Won <wonj@stats.snu.ac.kr>"
   ]
  },
  {
   "cell_type": "markdown",
   "metadata": {
    "slideshow": {
     "slide_type": "slide"
    },
    "tags": []
   },
   "source": [
    "## What is this course about?\n",
    "\n",
    "* Often statisticians need to implement their own methods, test new algorithms, or tailor classical methods to new types of data (big, streaming). \n",
    "\n",
    "* This entails at least two essential skills: **programming** and fundamental knowledge of **algorithms**. "
   ]
  },
  {
   "cell_type": "markdown",
   "metadata": {
    "slideshow": {
     "slide_type": "slide"
    },
    "tags": []
   },
   "source": [
    "> I would in either case call algorithms the statistical skeleton.\n",
    "\n",
    "  Bühlmann, P., & Van De Geer, S. (2018). [Statistics for big data: A perspective](https://doi.org/10.1016/j.spl.2018.02.016). *Statistics & Probability Letters*, 136, 37–41. \n",
    "\n",
    "* This course focuses on **algorithms**, mostly those in **numerical linear algebra** and **numerical optimization**. "
   ]
  },
  {
   "cell_type": "markdown",
   "metadata": {
    "jp-MarkdownHeadingCollapsed": true,
    "slideshow": {
     "slide_type": "slide"
    },
    "tags": []
   },
   "source": [
    "## What is this course NOT about?\n",
    "\n",
    "* **Not** a course on statistical packages. It does not answer questions such as _How to fit a linear mixed model in R,  Julia, SAS, SPSS, or Stata?_\n",
    "\n",
    "* **Not** a pure programming course, although programming is important and we do homework in [Julia](https://julialang.org).  \n",
    "Undergraduate course [326.312 (Statistical Computing and Labs)](https://won-j.github.io/326_212-2020fall/) focuses on programming in R.\n",
    "\n",
    "* **Not** a course on data science. My previous course [326.621a-2018 (Introduction to Data Science)](https://won-j.github.io/326_621a-2018fall/) focused on some software tools for data scientists."
   ]
  },
  {
   "cell_type": "markdown",
   "metadata": {
    "slideshow": {
     "slide_type": "slide"
    },
    "tags": []
   },
   "source": [
    "## Course goals\n",
    "\n",
    "* To learn in mind the quote by [James Gentle](https://www.amazon.com/Matrix-Algebra-Computations-Applications-Statistics-ebook/dp/B00DZ0O7AQ)\n",
    " \n",
    "> The form of a mathematical expression and the way the expression should be evaluated in actual practice may be quite different."
   ]
  },
  {
   "cell_type": "markdown",
   "metadata": {
    "slideshow": {
     "slide_type": "slide"
    }
   },
   "source": [
    "* For a common numerical task in statistics, say solving the weighted least squares problem \n",
    "$$\n",
    "    \\widehat \\beta = ({\\bf X}^T {\\bf W} {\\bf X})^{-1} {\\bf X}^T{\\bf W}{\\bf y},\n",
    "$$\n",
    "where $\\mathbf{W}=\\text{diag}(w)$ is diagonal, we need to know which methods/algorithms are out there and what are their advantages and disadvantages. \n",
    "\n",
    "* You will **fail** this course if you (syntactically correctly) code\n",
    "`inv(X' * W * X) * X' * W * y`\n",
    "<!--\n",
    "* Using `X \\ y` in Julia/Matlab (or `solve(X, y)` in R) is correct but not the purpose of this course. \n",
    "    + We want to understand **what the computers do** when we call `X \\ y`.\n",
    "-->"
   ]
  },
  {
   "cell_type": "markdown",
   "metadata": {},
   "source": [
    "## Experiment"
   ]
  },
  {
   "cell_type": "code",
   "execution_count": 1,
   "metadata": {
    "tags": []
   },
   "outputs": [
    {
     "name": "stdout",
     "output_type": "stream",
     "text": [
      "Julia Version 1.9.3\n",
      "Commit bed2cd540a1 (2023-08-24 14:43 UTC)\n",
      "Build Info:\n",
      "  Official https://julialang.org/ release\n",
      "Platform Info:\n",
      "  OS: macOS (x86_64-apple-darwin22.4.0)\n",
      "  CPU: 8 × Intel(R) Core(TM) i5-8279U CPU @ 2.40GHz\n",
      "  WORD_SIZE: 64\n",
      "  LIBM: libopenlibm\n",
      "  LLVM: libLLVM-14.0.6 (ORCJIT, skylake)\n",
      "  Threads: 2 on 8 virtual cores\n"
     ]
    }
   ],
   "source": [
    "versioninfo()"
   ]
  },
  {
   "cell_type": "code",
   "execution_count": 2,
   "metadata": {
    "tags": []
   },
   "outputs": [
    {
     "name": "stderr",
     "output_type": "stream",
     "text": [
      "\u001b[32m\u001b[1m  Activating\u001b[22m\u001b[39m project at `~/Dropbox/class/M1399.000200/2023/M1300_000200-2023fall/lectures/01-intro`\n"
     ]
    },
    {
     "name": "stdout",
     "output_type": "stream",
     "text": [
      "\u001b[32m\u001b[1mStatus\u001b[22m\u001b[39m `~/Dropbox/class/M1399.000200/2023/M1300_000200-2023fall/lectures/01-intro/Project.toml`\n",
      "  \u001b[90m[6e4b80f9] \u001b[39mBenchmarkTools v1.3.2\n",
      "  \u001b[90m[505f98c9] \u001b[39mInplaceOps v0.3.0\n"
     ]
    }
   ],
   "source": [
    "using Pkg\n",
    "Pkg.activate(pwd())\n",
    "Pkg.instantiate()\n",
    "Pkg.status()"
   ]
  },
  {
   "cell_type": "markdown",
   "metadata": {
    "tags": []
   },
   "source": [
    "## Simulate data"
   ]
  },
  {
   "cell_type": "code",
   "execution_count": 3,
   "metadata": {
    "tags": []
   },
   "outputs": [],
   "source": [
    "using LinearAlgebra, Random\n",
    "\n",
    "# Random seed for reproducibility\n",
    "Random.seed!(2023)\n",
    "# samples, features\n",
    "n, p = 5000, 100\n",
    "# design matrix\n",
    "X = [ones(n) randn(n, p - 1)]\n",
    "# responses\n",
    "y = randn(n)\n",
    "# weights\n",
    "w = 0.25 * rand(n);"
   ]
  },
  {
   "cell_type": "markdown",
   "metadata": {},
   "source": [
    "## Method 1"
   ]
  },
  {
   "cell_type": "code",
   "execution_count": 4,
   "metadata": {
    "tags": []
   },
   "outputs": [
    {
     "data": {
      "text/plain": [
       "100-element Vector{Float64}:\n",
       "  0.03893958882251126\n",
       "  0.03173648898397523\n",
       "  0.016186796334722572\n",
       "  0.00358850210061397\n",
       " -0.0044022378766381785\n",
       "  0.024896291106910624\n",
       "  0.03953100089520529\n",
       "  0.0013222671721829441\n",
       " -0.014988787442492648\n",
       " -0.009560194750918379\n",
       "  0.0011105379474297915\n",
       "  0.01540484587563391\n",
       "  0.0126857414133708\n",
       "  ⋮\n",
       "  0.011669004887653427\n",
       " -0.02802344657262936\n",
       "  0.03177302433513665\n",
       "  0.014037511751114791\n",
       "  0.004110124419340505\n",
       " -0.018736555772605728\n",
       " -0.008352804824917221\n",
       "  0.03330393468803309\n",
       " -0.004453763082797064\n",
       "  0.022698106424626115\n",
       " -0.004316953749865081\n",
       " -0.008959026076773076"
      ]
     },
     "execution_count": 4,
     "metadata": {},
     "output_type": "execute_result"
    }
   ],
   "source": [
    "# method 1 \n",
    "res1 = inv(X' * diagm(w) * X) * X' * diagm(w) * y"
   ]
  },
  {
   "cell_type": "markdown",
   "metadata": {},
   "source": [
    "## Benchmark Method 1"
   ]
  },
  {
   "cell_type": "code",
   "execution_count": 5,
   "metadata": {
    "tags": []
   },
   "outputs": [
    {
     "data": {
      "text/plain": [
       "BenchmarkTools.Trial: 15 samples with 1 evaluation.\n",
       " Range \u001b[90m(\u001b[39m\u001b[36m\u001b[1mmin\u001b[22m\u001b[39m … \u001b[35mmax\u001b[39m\u001b[90m):  \u001b[39m\u001b[36m\u001b[1m296.434 ms\u001b[22m\u001b[39m … \u001b[35m395.980 ms\u001b[39m  \u001b[90m┊\u001b[39m GC \u001b[90m(\u001b[39mmin … max\u001b[90m): \u001b[39m4.00% … 6.71%\n",
       " Time  \u001b[90m(\u001b[39m\u001b[34m\u001b[1mmedian\u001b[22m\u001b[39m\u001b[90m):     \u001b[39m\u001b[34m\u001b[1m348.685 ms               \u001b[22m\u001b[39m\u001b[90m┊\u001b[39m GC \u001b[90m(\u001b[39mmedian\u001b[90m):    \u001b[39m7.62%\n",
       " Time  \u001b[90m(\u001b[39m\u001b[32m\u001b[1mmean\u001b[22m\u001b[39m ± \u001b[32mσ\u001b[39m\u001b[90m):   \u001b[39m\u001b[32m\u001b[1m348.192 ms\u001b[22m\u001b[39m ± \u001b[32m 27.163 ms\u001b[39m  \u001b[90m┊\u001b[39m GC \u001b[90m(\u001b[39mmean ± σ\u001b[90m):  \u001b[39m7.51% ± 1.09%\n",
       "\n",
       "  \u001b[39m▁\u001b[39m \u001b[39m \u001b[39m \u001b[39m \u001b[39m \u001b[39m \u001b[39m \u001b[39m▁\u001b[39m \u001b[39m \u001b[39m \u001b[39m \u001b[39m \u001b[39m \u001b[39m \u001b[39m \u001b[39m█\u001b[39m \u001b[39m \u001b[39m \u001b[39m▁\u001b[39m \u001b[39m \u001b[39m \u001b[39m \u001b[39m \u001b[39m▁\u001b[39m \u001b[39m \u001b[39m \u001b[39m▁\u001b[34m▁\u001b[39m\u001b[39m▁\u001b[39m▁\u001b[39m \u001b[39m \u001b[39m \u001b[39m \u001b[39m \u001b[39m \u001b[39m \u001b[39m \u001b[39m \u001b[39m \u001b[39m▁\u001b[39m▁\u001b[39m▁\u001b[39m \u001b[39m▁\u001b[39m \u001b[39m \u001b[39m \u001b[39m \u001b[39m \u001b[39m \u001b[39m \u001b[39m \u001b[39m \u001b[39m \u001b[39m▁\u001b[39m \u001b[39m \n",
       "  \u001b[39m█\u001b[39m▁\u001b[39m▁\u001b[39m▁\u001b[39m▁\u001b[39m▁\u001b[39m▁\u001b[39m▁\u001b[39m█\u001b[39m▁\u001b[39m▁\u001b[39m▁\u001b[39m▁\u001b[39m▁\u001b[39m▁\u001b[39m▁\u001b[39m▁\u001b[39m█\u001b[39m▁\u001b[39m▁\u001b[39m▁\u001b[39m█\u001b[39m▁\u001b[39m▁\u001b[39m▁\u001b[39m▁\u001b[39m▁\u001b[39m█\u001b[39m▁\u001b[39m▁\u001b[39m▁\u001b[39m█\u001b[34m█\u001b[39m\u001b[39m█\u001b[39m█\u001b[39m▁\u001b[39m▁\u001b[39m▁\u001b[39m▁\u001b[39m▁\u001b[39m▁\u001b[39m▁\u001b[39m▁\u001b[39m▁\u001b[39m▁\u001b[39m█\u001b[39m█\u001b[39m█\u001b[39m▁\u001b[39m█\u001b[39m▁\u001b[39m▁\u001b[39m▁\u001b[39m▁\u001b[39m▁\u001b[39m▁\u001b[39m▁\u001b[39m▁\u001b[39m▁\u001b[39m▁\u001b[39m█\u001b[39m \u001b[39m▁\n",
       "  296 ms\u001b[90m           Histogram: frequency by time\u001b[39m          396 ms \u001b[0m\u001b[1m<\u001b[22m\n",
       "\n",
       " Memory estimate\u001b[90m: \u001b[39m\u001b[33m393.12 MiB\u001b[39m, allocs estimate\u001b[90m: \u001b[39m\u001b[33m18\u001b[39m."
      ]
     },
     "execution_count": 5,
     "metadata": {},
     "output_type": "execute_result"
    }
   ],
   "source": [
    "using BenchmarkTools\n",
    "\n",
    "bm1 = @benchmark ((inv($X' * diagm($w) * $X) * $X') * diagm($w)) * $y\n",
    "bm1"
   ]
  },
  {
   "cell_type": "markdown",
   "metadata": {},
   "source": [
    "## Method 2"
   ]
  },
  {
   "cell_type": "code",
   "execution_count": 7,
   "metadata": {
    "tags": []
   },
   "outputs": [],
   "source": [
    "# preallocation\n",
    "XtWt = Matrix{Float64}(undef, p, n)\n",
    "XtX = Matrix{Float64}(undef, p, p)\n",
    "Xty = Vector{Float64}(undef, p)\n",
    "\n",
    "using InplaceOps\n",
    "\n",
    "function inplaceWLS(X, y, w, XtWt, XtX, Xty)\n",
    "    # XtWt = X' * W\n",
    "    @! XtWt = transpose(X) * Diagonal(w);\n",
    "    # XtX = X' * W * X\n",
    "    @! XtX = XtWt * X\n",
    "    # Xty = X' * W * z\n",
    "    @! Xty = XtWt * y\n",
    "    # Cholesky on XtX\n",
    "    LAPACK.potrf!('U', XtX)\n",
    "    # Two triangular solves to solve (XtX) \\ (Xty)\n",
    "    BLAS.trsv!('U', 'T', 'N', XtX, Xty)\n",
    "    BLAS.trsv!('U', 'N', 'N', XtX, Xty)\n",
    "end"
   ]
  },
  {
   "cell_type": "markdown",
   "metadata": {},
   "source": [
    "## Benchmark Method 2\n",
    "\n",
    "First check correctness of Method 2"
   ]
  },
  {
   "cell_type": "code",
   "execution_count": 7,
   "metadata": {
    "tags": []
   },
   "outputs": [
    {
     "data": {
      "text/plain": [
       "2.7405547252184867e-16"
      ]
     },
     "execution_count": 7,
     "metadata": {},
     "output_type": "execute_result"
    }
   ],
   "source": [
    "res2 = inplaceWLS(X, y, w, XtWt, XtX, Xty)\n",
    "norm(res2 - res1)"
   ]
  },
  {
   "cell_type": "code",
   "execution_count": 16,
   "metadata": {
    "tags": []
   },
   "outputs": [
    {
     "data": {
      "text/plain": [
       "BenchmarkTools.Trial: 1919 samples with 1 evaluation.\n",
       " Range \u001b[90m(\u001b[39m\u001b[36m\u001b[1mmin\u001b[22m\u001b[39m … \u001b[35mmax\u001b[39m\u001b[90m):  \u001b[39m\u001b[36m\u001b[1m2.100 ms\u001b[22m\u001b[39m … \u001b[35m  4.082 ms\u001b[39m  \u001b[90m┊\u001b[39m GC \u001b[90m(\u001b[39mmin … max\u001b[90m): \u001b[39m0.00% … 0.00%\n",
       " Time  \u001b[90m(\u001b[39m\u001b[34m\u001b[1mmedian\u001b[22m\u001b[39m\u001b[90m):     \u001b[39m\u001b[34m\u001b[1m2.390 ms               \u001b[22m\u001b[39m\u001b[90m┊\u001b[39m GC \u001b[90m(\u001b[39mmedian\u001b[90m):    \u001b[39m0.00%\n",
       " Time  \u001b[90m(\u001b[39m\u001b[32m\u001b[1mmean\u001b[22m\u001b[39m ± \u001b[32mσ\u001b[39m\u001b[90m):   \u001b[39m\u001b[32m\u001b[1m2.592 ms\u001b[22m\u001b[39m ± \u001b[32m386.829 μs\u001b[39m  \u001b[90m┊\u001b[39m GC \u001b[90m(\u001b[39mmean ± σ\u001b[90m):  \u001b[39m0.00% ± 0.00%\n",
       "\n",
       "  \u001b[39m \u001b[39m \u001b[39m \u001b[39m \u001b[39m \u001b[39m \u001b[39m \u001b[39m \u001b[39m \u001b[39m \u001b[39m▆\u001b[39m█\u001b[34m▁\u001b[39m\u001b[39m \u001b[39m \u001b[39m \u001b[39m \u001b[39m \u001b[39m \u001b[39m \u001b[39m \u001b[32m \u001b[39m\u001b[39m \u001b[39m \u001b[39m \u001b[39m \u001b[39m \u001b[39m \u001b[39m \u001b[39m \u001b[39m \u001b[39m \u001b[39m \u001b[39m \u001b[39m \u001b[39m \u001b[39m \u001b[39m \u001b[39m \u001b[39m \u001b[39m \u001b[39m \u001b[39m \u001b[39m \u001b[39m \u001b[39m \u001b[39m \u001b[39m \u001b[39m \u001b[39m \u001b[39m \u001b[39m \u001b[39m \u001b[39m \u001b[39m \u001b[39m \u001b[39m \u001b[39m \u001b[39m \u001b[39m \u001b[39m \n",
       "  \u001b[39m▂\u001b[39m▂\u001b[39m▃\u001b[39m▄\u001b[39m▅\u001b[39m▇\u001b[39m▅\u001b[39m▄\u001b[39m▃\u001b[39m▇\u001b[39m█\u001b[39m█\u001b[34m█\u001b[39m\u001b[39m▅\u001b[39m▄\u001b[39m▃\u001b[39m▃\u001b[39m▂\u001b[39m▂\u001b[39m▂\u001b[39m▂\u001b[32m▂\u001b[39m\u001b[39m▂\u001b[39m▁\u001b[39m▁\u001b[39m▁\u001b[39m▁\u001b[39m▁\u001b[39m▁\u001b[39m▂\u001b[39m▁\u001b[39m▂\u001b[39m▂\u001b[39m▂\u001b[39m▂\u001b[39m▂\u001b[39m▂\u001b[39m▂\u001b[39m▃\u001b[39m▂\u001b[39m▃\u001b[39m▃\u001b[39m▃\u001b[39m▃\u001b[39m▃\u001b[39m▃\u001b[39m▂\u001b[39m▂\u001b[39m▂\u001b[39m▂\u001b[39m▃\u001b[39m▂\u001b[39m▂\u001b[39m▂\u001b[39m▂\u001b[39m▂\u001b[39m▂\u001b[39m▁\u001b[39m▂\u001b[39m \u001b[39m▂\n",
       "  2.1 ms\u001b[90m          Histogram: frequency by time\u001b[39m        3.49 ms \u001b[0m\u001b[1m<\u001b[22m\n",
       "\n",
       " Memory estimate\u001b[90m: \u001b[39m\u001b[33m0 bytes\u001b[39m, allocs estimate\u001b[90m: \u001b[39m\u001b[33m0\u001b[39m."
      ]
     },
     "execution_count": 16,
     "metadata": {},
     "output_type": "execute_result"
    }
   ],
   "source": [
    "bm2 = @benchmark inplaceWLS($X, $y, $w, $XtWt, $XtX, $Xty)\n",
    "bm2"
   ]
  },
  {
   "cell_type": "markdown",
   "metadata": {
    "slideshow": {
     "slide_type": "slide"
    }
   },
   "source": [
    "## Course goals (cont'd)\n",
    "\n",
    "* \"Do not reinvent the wheel\" mind: if existing software tools readily solve the problem, then use it. But be aware the inner workings.\n",
    "     - Least squares: `inplaceWLS()`. Will it work for a sample of $n=10^7$ and $p=10^9$?\n",
    "     - Optimization: recognize major classes of optimization problems and   choose an appropriate solver. Will it work for a sample of $n=10^5$ and $p=10^6$?"
   ]
  },
  {
   "cell_type": "markdown",
   "metadata": {
    "slideshow": {
     "slide_type": "slide"
    }
   },
   "source": [
    "## Course logistics\n",
    "\n",
    "* Course webpage: <https://won-j.github.io/M1399_000200-2023fall/>.\n",
    "\n",
    "* [Syllabus](../../README.md).\n",
    "\n",
    "* Check the **Schedule** and **Announcements** sections frequently. \n",
    "\n",
    "* [Jupyter notebooks](https://jupyter.org/install.html) will be posted before each lecture."
   ]
  }
 ],
 "metadata": {
  "celltoolbar": "Slideshow",
  "kernelspec": {
   "display_name": "Julia 1.9.3",
   "language": "julia",
   "name": "julia-1.9"
  },
  "language_info": {
   "file_extension": ".jl",
   "mimetype": "application/julia",
   "name": "julia",
   "version": "1.9.3"
  },
  "livereveal": {
   "scroll": true,
   "start_slideshow_at": "selected"
  },
  "toc": {
   "colors": {
    "hover_highlight": "#DAA520",
    "running_highlight": "#FF0000",
    "selected_highlight": "#FFD700"
   },
   "moveMenuLeft": true,
   "nav_menu": {
    "height": "213px",
    "width": "252px"
   },
   "navigate_menu": true,
   "number_sections": true,
   "sideBar": true,
   "skip_h1_title": true,
   "threshold": 4,
   "toc_cell": false,
   "toc_section_display": "block",
   "toc_window_display": true,
   "widenNotebook": false
  }
 },
 "nbformat": 4,
 "nbformat_minor": 4
}
